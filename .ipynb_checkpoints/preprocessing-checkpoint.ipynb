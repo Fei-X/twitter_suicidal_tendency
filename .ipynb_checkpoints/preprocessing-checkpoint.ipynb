{
 "cells": [
  {
   "cell_type": "code",
   "execution_count": 1,
   "metadata": {},
   "outputs": [],
   "source": [
    "import pandas as pd\n",
    "import numpy as np\n",
    "import matplotlib.pyplot as plt\n",
    "import re\n",
    "pd.set_option('display.max_colwidth', 1000)"
   ]
  },
  {
   "cell_type": "code",
   "execution_count": 2,
   "metadata": {},
   "outputs": [],
   "source": [
    "df = pd.DataFrame()\n",
    "for i in range(5):\n",
    "    file_name = 'data/data_' + str(i) + '.csv'\n",
    "    df_data = pd.read_csv(file_name)\n",
    "    df = df.append(df_data)\n",
    "df = df.reset_index(drop=True)"
   ]
  },
  {
   "cell_type": "code",
   "execution_count": 3,
   "metadata": {},
   "outputs": [],
   "source": [
    "def remove_terms(tweet, keyword, character):\n",
    "    if keyword:\n",
    "        for i in keyword:       \n",
    "            tweet = tweet.replace(character+i.lower(),'')\n",
    "    return tweet"
   ]
  },
  {
   "cell_type": "code",
   "execution_count": 4,
   "metadata": {},
   "outputs": [],
   "source": [
    "# Removing some columns about user information\n",
    "df = df.drop(columns=['date','link','hour','username','name_x','retweet','location','verified','private','avatar','background_image'])\n",
    "\n",
    "# 'tweets' column to lowercase\n",
    "df['tweet'] = df['tweet'].str.lower()\n",
    "\n",
    "# Transform the data type of some columns\n",
    "df['label'] = df['label'].astype(int)\n",
    "\n",
    "# Transform object type to list\n",
    "df['hashtags'] = df['hashtags'].apply(lambda x: x.strip('][').split(', ') if x != '[]' else 0)\n",
    "df['hashtags'] = df['hashtags'].apply(lambda x:[item.strip(\"'\") for item in x] if x != 0 else 0)\n",
    "screen_name = re.compile(\"screen_name': '(\\w+)'\")\n",
    "df['reply_to'] = df['reply_to'].apply(lambda x:screen_name.findall(x))\n",
    "\n",
    "# Remove hashtags and reply_to from tweet\n",
    "df['tweet'] = df.apply(lambda row:remove_terms(row['tweet'],row['hashtags'],'#'), axis=1)\n",
    "df['tweet'] = df.apply(lambda row:remove_terms(row['tweet'],row['reply_to'],'@'), axis=1)\n",
    "\n",
    "# Add a column about 'mention'\n",
    "screen_name = re.compile(\"@(\\w+)\")\n",
    "df['mention'] = df['tweet'].apply(lambda x:screen_name.findall(x))\n",
    "\n",
    "# Remove mention from tweet\n",
    "df['tweet'] = df.apply(lambda row:remove_terms(row['tweet'],row['mention'],'@'), axis=1)\n",
    "\n",
    "# Transform 'reply_to' and 'mention' to int\n",
    "df['reply_to'] = df['reply_to'].apply(lambda x:len(x) if x != '[]' else 0)\n",
    "df['mention'] = df['mention'].apply(lambda x:len(x) if x != '[]' else 0)\n",
    "\n",
    "# Remove photos and video link from tweet\n",
    "df['tweet'] = df['tweet'].apply(lambda x:re.sub('https://[a-z./0-9]+', '', x))\n",
    "df['tweet'] = df['tweet'].str.strip()\n",
    "\n",
    "# Add a column about tweet length\n",
    "df['tweet_length'] = df['tweet'].apply(lambda x:len(x.split()))\n",
    "\n",
    "# quote_url is when people quote other's tweets in their tweets.\n",
    "# Assuming that people quote others tweet is for commenting, not tend to have suicidality\n",
    "df['quote_url'] = df['quote_url'].astype(str)\n",
    "df['quote_url'] = df['quote_url'].apply(lambda x: 0 if x==\"0\" or x=='nan' else 1)\n",
    "\n",
    "# 'Bio' has NaN value\n",
    "df['bio'] = df['bio'].replace('\\n',' ',regex=True)\n",
    "df['bio'] = df['bio'].replace('\\r',' ',regex=True)\n",
    "\n",
    "# urls,photos will be classified as 0 or 1\n",
    "df['urls'] = df['urls'].apply(lambda x: 0 if x == \"[]\" else 1)\n",
    "df['photos'] = df['photos'].apply(lambda x: 0 if x == \"[]\" else 1)\n",
    "\n",
    "# 'url' is when people put some link on their user profile\n",
    "df['url'] = df['url'].astype(str)\n",
    "df['url'] = df['url'].apply(lambda x: 0 if x == 'nan' else 1)\n",
    "\n",
    "# Concatenate the sentimental analysis\n",
    "# 0 = negative, 2 = neutral, 4 = positive\n",
    "df_data = pd.read_csv('data/tweets_sentiment_result.csv')\n",
    "df_data.columns = ['tweet_sentiment','tweet']\n",
    "df['tweet_sentiment'] = df_data['tweet_sentiment']\n",
    "\n",
    "df_data = pd.read_csv('data/bio_sentiment_result.csv')\n",
    "df_data.columns = ['bio_sentiment','bio']\n",
    "df['bio_sentiment'] = df_data['bio_sentiment']\n",
    "\n",
    "# Drop 'bio'\n",
    "df = df.drop(columns=['bio'])\n",
    "\n",
    "# change the join_time to '#years user registered a twitter account'\n",
    "df['join_time'] = 2021 - pd.DatetimeIndex(pd.to_datetime(df['join_date'])).year\n",
    "\n",
    "df = df.drop(columns=['join_date'])"
   ]
  },
  {
   "cell_type": "code",
   "execution_count": 5,
   "metadata": {},
   "outputs": [
    {
     "data": {
      "text/plain": [
       "mentalhealth                  59\n",
       "suicidal                      54\n",
       "depression                    34\n",
       "suicideprevention             33\n",
       "turkishstudentslivesmatter    29\n",
       "dtype: int64"
      ]
     },
     "execution_count": 5,
     "metadata": {},
     "output_type": "execute_result"
    }
   ],
   "source": [
    "# investigating 'hashtags'\n",
    "lst = []\n",
    "for element in df['hashtags']:\n",
    "    if element != 0:\n",
    "        lst += element\n",
    "hashtags = pd.DataFrame(lst)\n",
    "hashtags.value_counts().head(5)"
   ]
  },
  {
   "cell_type": "markdown",
   "metadata": {},
   "source": [
    "For tweets having suicidal label,  97% of them don't have hashtags.  \n",
    "We can assume usually people want to raise awareness about suicide may put hashtags.  \n",
    "Therefore it would be safe to only put numbers of hashtags as feature.  "
   ]
  },
  {
   "cell_type": "code",
   "execution_count": 6,
   "metadata": {},
   "outputs": [],
   "source": [
    "df['hashtags'] = df['hashtags'].apply(lambda x:len(x) if x != 0 else 0)"
   ]
  },
  {
   "cell_type": "markdown",
   "metadata": {},
   "source": [
    "#### The pronouns of a tweet\n",
    "When a tweet is using first-person point of view, it's more likely to refer to the tweet owner's personal feeling, therefore, more likely to be real suicidal thoughts.  \n",
    "Whereas tweets in second/third person point of view are more like people describing other events.  "
   ]
  },
  {
   "cell_type": "code",
   "execution_count": 7,
   "metadata": {},
   "outputs": [],
   "source": [
    "first_person = ['i', 'my', 'me', 'am']\n",
    "df['first_person'] = 0\n",
    "for word in first_person:\n",
    "    word_ = re.compile('(^|\\s)' + word + '($|\\s)')\n",
    "    first_person_lst = df['tweet'].apply(lambda x:1 if len(word_.findall(x)) > 0 else 0)\n",
    "    df['first_person'] = df['first_person'] | first_person_lst\n",
    "    \n",
    "second_person = ['you', 'your', 'yours']\n",
    "df['second_person'] = 0\n",
    "for word in second_person:\n",
    "    word_ = re.compile('(^|\\s)' + word + '($|\\s)')\n",
    "    second_person_lst = df['tweet'].apply(lambda x:1 if len(word_.findall(x)) > 0 else 0)\n",
    "    df['second_person'] = df['second_person'] | second_person_lst\n",
    "    \n",
    "third_person = ['he','she',\"he's\",\"she's\", 'his','her','him','they','them']\n",
    "df['third_person'] = 0\n",
    "for word in third_person:\n",
    "    word_ = re.compile('(^|\\s)' + word + '($|\\s)')\n",
    "    third_person_lst = df['tweet'].apply(lambda x:1 if len(word_.findall(x)) > 0 else 0)\n",
    "    df['third_person'] = df['third_person'] | third_person_lst"
   ]
  },
  {
   "cell_type": "code",
   "execution_count": 8,
   "metadata": {},
   "outputs": [
    {
     "name": "stdout",
     "output_type": "stream",
     "text": [
      "<class 'pandas.core.frame.DataFrame'>\n",
      "RangeIndex: 11439 entries, 0 to 11438\n",
      "Data columns (total 26 columns):\n",
      " #   Column           Non-Null Count  Dtype \n",
      "---  ------           --------------  ----- \n",
      " 0   tweet            11439 non-null  object\n",
      " 1   label            11439 non-null  int32 \n",
      " 2   hashtags         11439 non-null  int64 \n",
      " 3   day              11439 non-null  int64 \n",
      " 4   urls             11439 non-null  int64 \n",
      " 5   photos           11439 non-null  int64 \n",
      " 6   video            11439 non-null  int64 \n",
      " 7   nlikes           11439 non-null  int64 \n",
      " 8   nreplies         11439 non-null  int64 \n",
      " 9   nretweets        11439 non-null  int64 \n",
      " 10  quote_url        11439 non-null  int64 \n",
      " 11  reply_to         11439 non-null  int64 \n",
      " 12  url              11439 non-null  int64 \n",
      " 13  join_time        11439 non-null  int64 \n",
      " 14  tweets           11439 non-null  int64 \n",
      " 15  following        11439 non-null  int64 \n",
      " 16  followers        11439 non-null  int64 \n",
      " 17  likes            11439 non-null  int64 \n",
      " 18  media            11439 non-null  int64 \n",
      " 19  mention          11439 non-null  int64 \n",
      " 20  tweet_length     11439 non-null  int64 \n",
      " 21  tweet_sentiment  11439 non-null  int64 \n",
      " 22  bio_sentiment    11439 non-null  int64 \n",
      " 23  first_person     11439 non-null  int64 \n",
      " 24  second_person    11439 non-null  int64 \n",
      " 25  third_person     11439 non-null  int64 \n",
      "dtypes: int32(1), int64(24), object(1)\n",
      "memory usage: 2.2+ MB\n"
     ]
    }
   ],
   "source": [
    "df.info()"
   ]
  },
  {
   "cell_type": "markdown",
   "metadata": {},
   "source": [
    "### Feature Engineering"
   ]
  },
  {
   "cell_type": "code",
   "execution_count": 9,
   "metadata": {},
   "outputs": [
    {
     "data": {
      "text/plain": [
       "<AxesSubplot:xlabel='mention'>"
      ]
     },
     "execution_count": 9,
     "metadata": {},
     "output_type": "execute_result"
    },
    {
     "data": {
      "image/png": "[encoded data removed]",
      "text/plain": [
       "<Figure size 1296x216 with 3 Axes>"
      ]
     },
     "metadata": {
      "needs_background": "light"
     },
     "output_type": "display_data"
    }
   ],
   "source": [
    "fig, axs = plt.subplots(ncols=3,figsize=(18,3))\n",
    "df.groupby(['hashtags','label'])['hashtags'].count().unstack().plot(kind='bar',stacked=True,ax=axs[0])\n",
    "df.groupby(['reply_to','label'])['reply_to'].count().unstack().plot(kind='bar',stacked=True,ax=axs[1])\n",
    "df.groupby(['mention','label'])['mention'].count().unstack().plot(kind='bar',stacked=True,ax=axs[2])"
   ]
  },
  {
   "cell_type": "markdown",
   "metadata": {},
   "source": [
    "Since most of the 'hashtags' and 'mention' are empty, we don't they are good features."
   ]
  },
  {
   "cell_type": "code",
   "execution_count": 10,
   "metadata": {},
   "outputs": [
    {
     "data": {
      "text/plain": [
       "<AxesSubplot:xlabel='quote_url'>"
      ]
     },
     "execution_count": 10,
     "metadata": {},
     "output_type": "execute_result"
    },
    {
     "data": {
      "image/png": "[encoded data removed]",
      "text/plain": [
       "<Figure size 1296x216 with 4 Axes>"
      ]
     },
     "metadata": {
      "needs_background": "light"
     },
     "output_type": "display_data"
    }
   ],
   "source": [
    "fig, axs = plt.subplots(ncols=4,figsize=(18,3))\n",
    "df.groupby(['urls','label'])['urls'].count().unstack().plot(kind='bar',stacked=True,ax=axs[0])\n",
    "df.groupby(['video','label'])['video'].count().unstack().plot(kind='bar',stacked=True,ax=axs[1])\n",
    "df.groupby(['photos','label'])['photos'].count().unstack().plot(kind='bar',stacked=True,ax=axs[2])\n",
    "df.groupby(['quote_url','label'])['quote_url'].count().unstack().plot(kind='bar',stacked=True,ax=axs[3])"
   ]
  },
  {
   "cell_type": "markdown",
   "metadata": {},
   "source": [
    "Seems like most of the media are empty. We could safely drop them."
   ]
  },
  {
   "cell_type": "code",
   "execution_count": 11,
   "metadata": {},
   "outputs": [
    {
     "data": {
      "text/plain": [
       "<AxesSubplot:title={'center':'Not Suicidal People by day'}>"
      ]
     },
     "execution_count": 11,
     "metadata": {},
     "output_type": "execute_result"
    },
    {
     "data": {
      "image/png": "[encoded data removed]",
      "text/plain": [
       "<Figure size 1080x360 with 3 Axes>"
      ]
     },
     "metadata": {
      "needs_background": "light"
     },
     "output_type": "display_data"
    }
   ],
   "source": [
    "plt.figure(figsize=(15,5))\n",
    "plt.subplot(1,3,1)\n",
    "plt.title('Total Suicidality by day')\n",
    "df['day'].value_counts().sort_index().plot(kind='bar')\n",
    "plt.subplot(1,3,2)\n",
    "plt.title('Highly Suicidal People by day')\n",
    "df[df['label'] == 2]['day'].value_counts().sort_index().plot(kind='bar')\n",
    "plt.subplot(1,3,3)\n",
    "plt.title('Not Suicidal People by day')\n",
    "df[df['label'] != 2]['day'].value_counts().sort_index().plot(kind='bar')"
   ]
  },
  {
   "cell_type": "markdown",
   "metadata": {},
   "source": [
    "Interesting, how come on Thursday suicidal vibe is so strong?  \n",
    "We can use the absolute value to map this tendency.  "
   ]
  },
  {
   "cell_type": "code",
   "execution_count": 12,
   "metadata": {},
   "outputs": [],
   "source": [
    "df = df.drop(columns=['hashtags','mention','quote_url','urls','photos','video'])"
   ]
  },
  {
   "cell_type": "code",
   "execution_count": 13,
   "metadata": {},
   "outputs": [
    {
     "data": {
      "image/png": "[encoded data removed]",
      "text/plain": [
       "<Figure size 1296x216 with 3 Axes>"
      ]
     },
     "metadata": {
      "needs_background": "light"
     },
     "output_type": "display_data"
    }
   ],
   "source": [
    "plt.figure(figsize=(18,3))\n",
    "lst = ['nlikes', 'nreplies', 'nretweets']\n",
    "for i in range(3):\n",
    "    plt.subplot(1,3,i+1)\n",
    "    plt.hist(df[lst[i]],bins=10);\n",
    "    plt.xlabel(lst[i])\n",
    "    plt.ylabel('counts')"
   ]
  },
  {
   "cell_type": "markdown",
   "metadata": {},
   "source": [
    "There are some tweets received many likes and replies.  \n",
    "Those are really outliers, so we apply log to them."
   ]
  },
  {
   "cell_type": "code",
   "execution_count": 14,
   "metadata": {},
   "outputs": [
    {
     "data": {
      "image/png": "[encoded data removed]",
      "text/plain": [
       "<Figure size 1296x216 with 3 Axes>"
      ]
     },
     "metadata": {
      "needs_background": "light"
     },
     "output_type": "display_data"
    }
   ],
   "source": [
    "plt.figure(figsize=(18,3))\n",
    "lst = ['nlikes', 'nreplies', 'nretweets']\n",
    "for i in range(3):\n",
    "    plt.subplot(1,3,i+1)\n",
    "    plt.hist(np.log1p(df[lst[i]]),bins=10);\n",
    "    plt.xlabel(lst[i])\n",
    "    plt.ylabel('counts')"
   ]
  },
  {
   "cell_type": "markdown",
   "metadata": {},
   "source": [
    "They are still extremely skewed."
   ]
  },
  {
   "cell_type": "markdown",
   "metadata": {},
   "source": [
    "Apply the same for other numeric features."
   ]
  },
  {
   "cell_type": "code",
   "execution_count": 15,
   "metadata": {},
   "outputs": [
    {
     "data": {
      "image/png": "[encoded data removed]",
      "text/plain": [
       "<Figure size 1080x720 with 6 Axes>"
      ]
     },
     "metadata": {
      "needs_background": "light"
     },
     "output_type": "display_data"
    }
   ],
   "source": [
    "plt.figure(figsize=(15,10))\n",
    "lst = ['join_time', 'tweets', 'following', 'followers', 'likes', 'media']\n",
    "for i in range(6):\n",
    "    plt.subplot(2,3,i+1)\n",
    "    plt.hist(np.log1p(df[lst[i]]),bins=10);\n",
    "    plt.xlabel(lst[i])\n",
    "    plt.ylabel('counts')"
   ]
  },
  {
   "cell_type": "code",
   "execution_count": 16,
   "metadata": {},
   "outputs": [
    {
     "name": "stdout",
     "output_type": "stream",
     "text": [
      "<class 'pandas.core.frame.DataFrame'>\n",
      "RangeIndex: 11439 entries, 0 to 11438\n",
      "Data columns (total 20 columns):\n",
      " #   Column           Non-Null Count  Dtype \n",
      "---  ------           --------------  ----- \n",
      " 0   tweet            11439 non-null  object\n",
      " 1   label            11439 non-null  int32 \n",
      " 2   day              11439 non-null  int64 \n",
      " 3   nlikes           11439 non-null  int64 \n",
      " 4   nreplies         11439 non-null  int64 \n",
      " 5   nretweets        11439 non-null  int64 \n",
      " 6   reply_to         11439 non-null  int64 \n",
      " 7   url              11439 non-null  int64 \n",
      " 8   join_time        11439 non-null  int64 \n",
      " 9   tweets           11439 non-null  int64 \n",
      " 10  following        11439 non-null  int64 \n",
      " 11  followers        11439 non-null  int64 \n",
      " 12  likes            11439 non-null  int64 \n",
      " 13  media            11439 non-null  int64 \n",
      " 14  tweet_length     11439 non-null  int64 \n",
      " 15  tweet_sentiment  11439 non-null  int64 \n",
      " 16  bio_sentiment    11439 non-null  int64 \n",
      " 17  first_person     11439 non-null  int64 \n",
      " 18  second_person    11439 non-null  int64 \n",
      " 19  third_person     11439 non-null  int64 \n",
      "dtypes: int32(1), int64(18), object(1)\n",
      "memory usage: 1.7+ MB\n"
     ]
    }
   ],
   "source": [
    "df.info()"
   ]
  },
  {
   "cell_type": "markdown",
   "metadata": {},
   "source": [
    "### Data Preprocessing"
   ]
  },
  {
   "cell_type": "markdown",
   "metadata": {},
   "source": [
    "###### tf-count and topic model for tweets"
   ]
  },
  {
   "cell_type": "code",
   "execution_count": 17,
   "metadata": {},
   "outputs": [],
   "source": [
    "# # The lemmatization does not work really well.\n",
    "# import nltk\n",
    "# nltk.download('wordnet')\n",
    "# from nltk.stem.wordnet import WordNetLemmatizer\n",
    "# df['tweet'] = df['tweet'].apply(lambda x:' '.join(WordNetLemmatizer().lemmatize(i) for i in x.split(' ')))\n",
    "\n",
    "from sklearn.feature_extraction import text\n",
    "from sklearn.feature_extraction.text import CountVectorizer\n",
    "from sklearn.decomposition import LatentDirichletAllocation\n",
    "\n",
    "# Adding a list of stop words to the wordlist\n",
    "my_stop_words = text.ENGLISH_STOP_WORDS.union(['suicidal','bc','did','didn','t','does','doesn','don','dont','doing','going','gonna','having','isn','ll','ve','wanna','want','wanted','wanting','wasn','went','yes','yeah'])\n",
    "count_vectorizer = CountVectorizer(min_df=0.01, stop_words=my_stop_words)\n",
    "x = count_vectorizer.fit_transform(df['tweet'])\n",
    "\n",
    "n,m = x.shape\n",
    "k = 20 # try for 20 topics\n",
    "lda = LatentDirichletAllocation(n_components=k, random_state=2021)\n",
    "xtr = lda.fit_transform(x)\n",
    "\n",
    "# So xtr will be new features to replace 'tweet'\n",
    "data_x = pd.DataFrame(xtr).add_prefix('topic_')"
   ]
  },
  {
   "cell_type": "markdown",
   "metadata": {},
   "source": [
    "#### Take log for some features."
   ]
  },
  {
   "cell_type": "code",
   "execution_count": 18,
   "metadata": {},
   "outputs": [],
   "source": [
    "features_to_log = ['nlikes', 'nreplies', 'nretweets','join_time', 'tweets', 'following', 'followers', 'likes', 'media']\n",
    "for feature in features_to_log:\n",
    "    data_x[feature] = np.log1p(df[feature])"
   ]
  },
  {
   "cell_type": "markdown",
   "metadata": {},
   "source": [
    "'day' take absolute values, tweet_length take min-max scale."
   ]
  },
  {
   "cell_type": "code",
   "execution_count": 19,
   "metadata": {},
   "outputs": [],
   "source": [
    "df['day'] = (df['day'] - 4).abs()\n",
    "df['tweet_length'] = df['tweet_length'] / df['tweet_length'].max()"
   ]
  },
  {
   "cell_type": "code",
   "execution_count": 20,
   "metadata": {},
   "outputs": [],
   "source": [
    "features_to_add = ['day','url','tweet_length', 'tweet_sentiment', 'bio_sentiment', 'first_person', 'second_person', 'third_person']\n",
    "for feature in features_to_add:\n",
    "    data_x[feature] = df[feature]"
   ]
  },
  {
   "cell_type": "code",
   "execution_count": 21,
   "metadata": {},
   "outputs": [],
   "source": [
    "data_y = df['label']"
   ]
  },
  {
   "cell_type": "markdown",
   "metadata": {},
   "source": [
    "### Modelling"
   ]
  },
  {
   "cell_type": "code",
   "execution_count": 22,
   "metadata": {},
   "outputs": [],
   "source": [
    "from sklearn import model_selection\n",
    "x_train, x_test, y_train, y_test = model_selection.train_test_split(data_x, data_y, test_size = 0.2, random_state = 2021)"
   ]
  },
  {
   "cell_type": "code",
   "execution_count": 23,
   "metadata": {},
   "outputs": [
    {
     "name": "stdout",
     "output_type": "stream",
     "text": [
      "\n",
      "The evaluation report of OVR is:\n",
      "Confusion Matrix:\n",
      "[[1022  181  254]\n",
      " [ 157  102  164]\n",
      " [  86   66  256]]\n",
      "Accuracy: 0.6031468531468531\n",
      "\n"
     ]
    }
   ],
   "source": [
    "from sklearn import linear_model, metrics\n",
    "estimator = linear_model.LogisticRegression(class_weight='balanced',\n",
    "                                            multi_class='ovr',\n",
    "                                            C=0.01,\n",
    "                                            max_iter=1000)\n",
    "\n",
    "estimator.fit(x_train, y_train)\n",
    "y_pred = estimator.predict(x_test)\n",
    "report = \"\"\"\n",
    "The evaluation report of OVR is:\n",
    "Confusion Matrix:\n",
    "{}\n",
    "Accuracy: {}\n",
    "\"\"\".format(metrics.confusion_matrix(y_test, y_pred),\n",
    "           metrics.accuracy_score(y_test, y_pred))\n",
    "print(report)"
   ]
  },
  {
   "cell_type": "markdown",
   "metadata": {},
   "source": [
    "#### Reference: Sentiment analysis through Sentiment140 API"
   ]
  },
  {
   "cell_type": "code",
   "execution_count": null,
   "metadata": {},
   "outputs": [],
   "source": [
    "# Save 'tweet' and 'bio' for sentiment analysis\n",
    "df['tweet'].to_csv('data/tweets_for_sentiment.txt',index=False)\n",
    "df['bio'].to_csv('data/bio_for_sentiment.txt',index=False)"
   ]
  },
  {
   "cell_type": "code",
   "execution_count": 46,
   "metadata": {},
   "outputs": [
    {
     "name": "stderr",
     "output_type": "stream",
     "text": [
      "  % Total    % Received % Xferd  Average Speed   Time    Time     Time  Current\n",
      "                                 Dload  Upload   Total   Spent    Left  Speed\n",
      "\n",
      "  0     0    0     0    0     0      0      0 --:--:-- --:--:-- --:--:--     0\n",
      "100  355k    0     0  100  355k      0  3669k --:--:-- --:--:-- --:--:-- 3632k\n",
      "100  355k    0     0  100  355k      0   292k  0:00:01  0:00:01 --:--:--  292k\n",
      "100  355k    0     0  100  355k      0   160k  0:00:02  0:00:02 --:--:--  160k\n",
      " 56  725k   13 52608  100  355k  16888   114k  0:00:22  0:00:03  0:00:19  130k\n",
      "100  725k  100  369k  100  355k    98k  97079  0:00:03  0:00:03 --:--:--  193k\n",
      "  % Total    % Received % Xferd  Average Speed   Time    Time     Time  Current\n",
      "                                 Dload  Upload   Total   Spent    Left  Speed\n",
      "\n",
      "  0     0    0     0    0     0      0      0 --:--:-- --:--:-- --:--:--     0\n",
      "100  184k    0     0  100  184k      0   150k  0:00:01  0:00:01 --:--:--  150k\n",
      " 51  381k    6 13463  100  184k   8504   116k  0:00:23  0:00:01  0:00:22  124k\n",
      " 90  381k   82  162k  100  184k  72005  81791  0:00:02  0:00:02 --:--:--  150k\n",
      "100  381k  100  197k  100  184k  86057  80397  0:00:02  0:00:02 --:--:--  162k\n"
     ]
    }
   ],
   "source": [
    "! curl --data-binary @tweets_for_sentiment.txt \"http://www.sentiment140.com/api/bulkClassify?appid=feixie.2020@mitb.smu.edu.sg\" > tweets_sentiment_result.csv\n",
    "! curl --data-binary @bio_for_sentiment.txt \"http://www.sentiment140.com/api/bulkClassify?appid=feixie.2020@mitb.smu.edu.sg\" > bio_sentiment_result.csv"
   ]
  }
 ],
 "metadata": {
  "kernelspec": {
   "display_name": "Python 3",
   "language": "python",
   "name": "python3"
  },
  "language_info": {
   "codemirror_mode": {
    "name": "ipython",
    "version": 3
   },
   "file_extension": ".py",
   "mimetype": "text/x-python",
   "name": "python",
   "nbconvert_exporter": "python",
   "pygments_lexer": "ipython3",
   "version": "3.7.9"
  }
 },
 "nbformat": 4,
 "nbformat_minor": 4
}

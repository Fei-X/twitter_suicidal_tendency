{
 "cells": [
  {
   "cell_type": "code",
   "execution_count": 143,
   "metadata": {},
   "outputs": [],
   "source": [
    "import pandas as pd\n",
    "import numpy as np\n",
    "import twint\n",
    "import nest_asyncio\n",
    "nest_asyncio.apply()\n",
    "pd.set_option('display.max_columns', 500)"
   ]
  },
  {
   "cell_type": "code",
   "execution_count": 123,
   "metadata": {
    "tags": [
     "outputPrepend"
    ]
   },
   "outputs": [
    {
     "name": "stdout",
     "output_type": "stream",
     "text": [
      "e out already if youre that upset.\n",
      "1365461827744890882 2021-02-27 08:40:43 +0800 <mayaraa_kk> Feeling super, super, super suicidal\n",
      "1365461815975624706 2021-02-27 08:40:40 +0800 <AKingWasHere> @shr0omi3 @AKingIsHere @suicidal_toxic You complained, I gave a solution hello?? 😭😭\n",
      "1365461620005220353 2021-02-27 08:39:53 +0800 <Fablemaster> @MerricB What's the help group for those DMs that are dealing with dumb player choices? \"I think I need help. My party is borderline suicidal.\"\n",
      "1365461609670340608 2021-02-27 08:39:51 +0800 <jazzypastels> my suicidal thoughts went away for 2 years but things are feeling bad again and I'm upset\n",
      "1365461578586460161 2021-02-27 08:39:44 +0800 <AKingWasHere> @shr0omi3 @AKingIsHere @suicidal_toxic Just mute my retweets Ava and you're good 🌚 it's 2 clicks awaee\n",
      "1365461540061786115 2021-02-27 08:39:34 +0800 <honey_goat> Would there be interest in a “I struggle with suicidal thoughts” sticker?  🥺 💭💕🙌\n",
      "1365461455567392768 2021-02-27 08:39:14 +0800 <masochsit> this makes me suicidal  https://t.co/Fynw6q9Ilv\n",
      "1365461431399964673 2021-02-27 08:39:08 +0800 <LFCRhxs> And on that note If anyone feels the depressed or suicidal  please dm me or someone ❤\n",
      "1365461304274784256 2021-02-27 08:38:38 +0800 <sfctoby> @mattttswfc @FFCMison Because some idiots have started doing fake suicidal tweets for attention, shit sucks\n",
      "1365461293751148547 2021-02-27 08:38:36 +0800 <angeloxsalonga> No suicidal shit but this is the Only time in my life where Im actually scared to wake up.\n",
      "1365461289540157443 2021-02-27 08:38:35 +0800 <zsoldierH> @guiwdaboy13 procurei ''Josh A Suicidal Throughs'' e é um podcast KKKKKKKK\n",
      "1365461187899453441 2021-02-27 08:38:10 +0800 <FluffyFris> And if any of your cunts dox me and call the cops to try to ''''''help''''' me fucking up my immigration/life my willingness goes to 100%. Just be a warning to y'all when any of you try to ''''help'''' suicidal people. Being publicly known as suicidal is hell, please dont do that\n",
      "1365461162775760906 2021-02-27 08:38:04 +0800 <sergioz651> People that are suicidal and are still here are one of the strongest people in my perspective. Mad respect for people with mental health issues.\n",
      "1365460923050196996 2021-02-27 08:37:07 +0800 <bbycaIz> people saying that they love me make me feel bad for being suicidal\n",
      "1365460695152807936 2021-02-27 08:36:13 +0800 <PUPPYB0YX> cant believe i'm back in my suicidal era id finally started being normal again  😒\n",
      "1365460645626474497 2021-02-27 08:36:01 +0800 <thisisjustme__> Those suicidal thoughts come to me like a guest but I think this time they’re staying\n",
      "1365460598859907073 2021-02-27 08:35:50 +0800 <Steve23Glass> “I’m not suicidal. I just feel like I’ve done a lot and I’ve seen a lot. And now I’m like... Let’s wrap this shit up.” This was the first thought that came to my mind after the day I had. @tomsegura #Mood\n",
      "1365460595940671495 2021-02-27 08:35:49 +0800 <suicidal_toxic> @shr0omi3 Fairs😭😂\n",
      "1365460559739686912 2021-02-27 08:35:41 +0800 <suicidal_toxic> @shr0omi3 Brb finna cry\n",
      "1365460532975841282 2021-02-27 08:35:34 +0800 <suicidal_toxic> @shr0omi3 @AKingIsHere @AKingWasHere Lmao\n",
      "1365460481528524803 2021-02-27 08:35:22 +0800 <heymoneyb> @redd_plus2 you can’t be arguing with no ho who was just suicidal when the nigga was just DDT’n her ass! Ho ain’t near gangster!\n",
      "1365460478248509440 2021-02-27 08:35:21 +0800 <96HOBI> @MEWK00 Coming from a suicidal twin, telling people to die in any fucking case is fucking wrong?\n",
      "1365460380999426054 2021-02-27 08:34:58 +0800 <jindell_> @judahH_ cordae and jid. if im feeling suicidal tho lil mosey and purpp, maybe even icejjfish\n",
      "1365460361835667460 2021-02-27 08:34:53 +0800 <banannaomi> CN: sui  . . .  Lifeline: go to Hotline Hotline: go to Lifeline  it's the chronic illness runaround with ppl who are supposed to be trained to manage chronic suicidal illnesses!!!! how fUCKING FUN!!!!\n",
      "1365460297792835591 2021-02-27 08:34:38 +0800 <suicidal_toxic> @shr0omi3 Tom?\n",
      "1365460251059847171 2021-02-27 08:34:27 +0800 <suicidal_toxic> @shr0omi3 @AKingIsHere @AKingWasHere ffs man we’ve talked about this\n",
      "1365460178309681154 2021-02-27 08:34:10 +0800 <MEWK00> @quehobi idk  what  to  tell  u,  if  u  genuinely  consider  su¡cide  bc  someone  said  k¥s  on  stan  twt  i  dont  think  its  the  right  place  for  u  this  is  coming  from  someone  who  is  highly  suicidal\n",
      "1365459898167939077 2021-02-27 08:33:03 +0800 <zbright94> All of which is a work in progress. I get really irritable, grumpy, easily upset, isolated, in pain, have weak days, sometimes I'll lose all feeling, my legs won't work, my headaches leave me useless, my vision blurs, I'll feel suicidal, I'll cry, I'll rock in pain to cope, but..\n",
      "1365459892862083076 2021-02-27 08:33:02 +0800 <zbright94> An observation on #MentalHealth... so I once was on antidepressants, sedatives, strong painkillers, beta blockers and antihistamines (or anti-nausea meds). The side effects were really awful and in some cases, were the worst. At first, they helped me get past suicidal thoughts.\n",
      "1365459799601795072 2021-02-27 08:32:39 +0800 <southpawsnowcat> the other day i had suicidal thots, and then i thot of all the positive and uplifting things my twitter friends would say, and instantly felt better. thanks to you all, you're wonderful.\n",
      "1365459572580835328 2021-02-27 08:31:45 +0800 <snuffcutie> cigarettes when your suicidal hit different\n",
      "1365459544340639745 2021-02-27 08:31:39 +0800 <zipper_pull> *multiple serial killers *teen drug use/addiction/overdose (jingle jangle and fizzle rocks) *multiple incest storylines  *cults *suicidal nuns *fights with actual bears *fights with men dressed as bears *clear instructions on gay woods and park cruising  *gay conversion \"therapy\"\n",
      "1365459281328414727 2021-02-27 08:30:36 +0800 <len_petrick> @jrn1976 @VP @POTUS @JoeBiden @DrBiden @DNC @SenatorHick @RepJoeNeguse @RepDianaDeGette @SpeakerPelosi @RepBoebert @HillaryClinton @BillClinton @ericswalwell @GovofCO @jaredpolis I agree 100%. These people are criminals taking this country on a suicidal death spiral right into the ground.\n",
      "1365459214051778561 2021-02-27 08:30:20 +0800 <JacobFalcon23> 1 is suicidal\n",
      "1365459213858738176 2021-02-27 08:30:20 +0800 <RomelloYarber> Ready to die track 17 I’m suicidal ran outta dutchys so we use the paper out the Bible\n",
      "1365458989245485063 2021-02-27 08:29:26 +0800 <Rokoatwt> suicide //  .  Hey  I'm back I felt horrible again Like, really bad. Suicidal, even But, 3 friends really managed to help me Thank you, Fern (1weyrandom) Nat (friend who left Twitter) and Rose (StardustVampire) for your incredible help Uh Back to normal now :)\n",
      "1365458874678001671 2021-02-27 08:28:59 +0800 <Her_Fault> Suicidal gf murderer bf\n",
      "1365458871616167937 2021-02-27 08:28:58 +0800 <boberthavok> @stevenspohn I mean I am still dealing with everything. But the suicidal thoughts have not entered my mind since.\n",
      "1365458762937458691 2021-02-27 08:28:32 +0800 <kelloggsdaddy> happens when you this shit. He got 100s of death threats and abusive messages every single day pushing him to become suicidal and he really went through all of that and thought “hmm maybe I should do that for real”. You shouldn’t have to be scared for your life and career to +\n",
      "1365458447601385480 2021-02-27 08:27:17 +0800 <coochielip> being suicidal AND a coward is SO HARD. literally just mental waterboarding\n",
      "1365458385064194048 2021-02-27 08:27:02 +0800 <jonther4> Been thinking about death. Not in a suicidal way.... Just thinking that one day, I wont be.....\n",
      "1365458354177519616 2021-02-27 08:26:55 +0800 <UltimateJM_22> Imagine being so suicidal that you’re willing to take the COVID-19 vaccine.\n",
      "1365458230122598405 2021-02-27 08:26:25 +0800 <GreenLlama07> @sleepyarnulfo @duckedoffjose You must be suicidal\n",
      "1365458007035895810 2021-02-27 08:25:32 +0800 <whyamijules> Yay i no longer have suicidal thoughts 😀\n",
      "1365457926626963457 2021-02-27 08:25:13 +0800 <Angelbiti> @MacroCRG The US is messing around with inflation.    Thinking you can just print dollars as a solution to everything financial is suicidal.  No effect in doubling minimum wage, further stimulus, propping markets.  When you let your core economy disappear, hyperinflation will find you.\n",
      "1365457831831302146 2021-02-27 08:24:50 +0800 <leek_alter> so, i've dutifully read the side effects of sertraline prior to my first dose and it's kind of a trip. - may make you less depressed - may make you more depressed - may make you less anxious - may make you more anxious - may make you less suicidal - may make you more suicidal\n",
      "1365457776244367364 2021-02-27 08:24:37 +0800 <EcstasyOfGoble> @buttermilkdad He said, clutching his Suicide Squad XTRA Suicidal Edition 4K.\n",
      "1365457731117842432 2021-02-27 08:24:26 +0800 <saintchami> @UtdZett_ that was so messed up man he genuinely did it for interactions, like now people think everyone that says something suicidal is faking it\n",
      "1365457727728869377 2021-02-27 08:24:25 +0800 <dazaiosamusgf> @traace_ BUT PLS he was suicidal and abused for so long and they only feel bad bc he was homeless? 😭\n",
      "1365457632971137027 2021-02-27 08:24:03 +0800 <nazshell1>  https://t.co/EDcMI4ZxJY  sizi benimle birlikte acı çekmeye davet ediyorum hareketli suicidal japunca şarkılarla\n",
      "1365457542793601028 2021-02-27 08:23:41 +0800 <feelsakame> im suicidal i dont wanna fucking die\n",
      "1365457519624224768 2021-02-27 08:23:36 +0800 <yrivore> @sopetf TW// mention of suicide  YEAH....... she’s rlly suicidal\n",
      "1365457440645373953 2021-02-27 08:23:17 +0800 <pyfagorean> Every time i have a medical issue or a mental health issue she accuses me of lying. Fuck, the other night she accused me of lying about being a csa survivor. She's literally told me that if i were really suicidal I would have attempted suicide. She fucking wants me dead im so +\n",
      "1365457432663580673 2021-02-27 08:23:15 +0800 <Coffeepunker> Growing up suicidal is like sending the devil an \"I'm OMW\" text and yet you still haven't left the house.\n",
      "1365457410769444865 2021-02-27 08:23:10 +0800 <sexistbladee> i listened to all the small things like 15 times because i couldn’t be fucked to change it on spotify i want to kill myself why did i even put that on i wanted the dopamine of hearing the guys whiny fucking voice but all i gained was suicidal tendencies i fucking hate him i hope\n",
      "1365457369975644160 2021-02-27 08:23:00 +0800 <banditosunite> TW // depression / suicide  😍my parents get mad at me for being depressed and suicidal when they’re a big part in why I’m depressed and suicidal😍\n",
      "1365457335653715968 2021-02-27 08:22:52 +0800 <ftbl_andrew> @WrecklessWhyte I think it’s lowkey that Arsenal fans fault who pretended to be suicidal for interactions then people didn’t take this one serious\n",
      "1365457322668027905 2021-02-27 08:22:49 +0800 <Lem_uelka> You're way too beautiful girl That's why it'll never work You'll have me suicidal, suicidal When you say it's over.\n",
      "1365457059270000645 2021-02-27 08:21:46 +0800 <cc_fla> political speeches make me suicidal, imagine finding them fun (let alone foreplay)\n",
      "1365456854042763265 2021-02-27 08:20:57 +0800 <JacobDWelch> Places I don’t wanna be: here.  Not suicidal or anything just still workin\n",
      "1365456826158903300 2021-02-27 08:20:50 +0800 <buffyyisdead> who wants to send a queer teen some thigh pics b4 i’m stuck in a tiny room for 24 hours watching cable television because of my suicidal thoughts\n",
      "1365456362512257031 2021-02-27 08:19:00 +0800 <DepressedWBlack> As a chronically suicidal person, I can't keep guns in the house but Robert F. Williams definitely saved lives in protecting Black folks from the KKK.\n",
      "1365456277481136128 2021-02-27 08:18:40 +0800 <CathyYoung63> You're fantastic, Alice, and doing great work. But it's work that no one should have to do. Why are we still allowing these situations to happen? Why is someone's life being destroyed by a \"cancellation\" to the point of making him suicidal? This is obscene.\n",
      "1365456091275001857 2021-02-27 08:17:55 +0800 <aliciousnessxw> @WholeLottaPunk1 I’m not suicidal these days\n",
      "1365456058374893571 2021-02-27 08:17:47 +0800 <jinsgaygf> tw suicide tw suicidal thoughts  yesterday i had my interview for a promotion and one of the questions my boss asked me was where i see myself in 5 years and all i could think was hopefully not alive (i didnt say that but well)\n",
      "1365455943354494979 2021-02-27 08:17:20 +0800 <SultanofSaturnn> 1. Therapy is expensive  2. Why the fuck would I go talk to some white lady who will only give me antidepressants that will make me suicidal when the things that make me depressed can’t be fixed by me\n",
      "1365455853663436802 2021-02-27 08:16:59 +0800 <TinFoilRealist> @DannyCryptohodl @ltc_angel I think I just became suicidal\n",
      "1365455590043099139 2021-02-27 08:15:56 +0800 <aobojohsai> tw suicide hey guys my brother just told my mom that i’m suicidal 😂\n",
      "1365455569335836677 2021-02-27 08:15:51 +0800 <smdh_atloser45> @swamgood I get it tho, hurt people, hurt people.  You're hurt. You have expressed suicidal thoughts. And you're so hurt that you're wishing death on others. I'm honestly saying asking you to talk to someone. Someone other someone's as hurt as you.\n",
      "1365455546887864322 2021-02-27 08:15:45 +0800 <honey_goat> @Panty_Christ @chasetkach I take lithium orotate too! I’ve been on it a year &amp; half &amp; its saved my life. It helps my suicidal ideology, PTSD &amp; mood swings. 🙌\n",
      "1365455433335525377 2021-02-27 08:15:18 +0800 <magentafanta> sean kingston was SPITTIN when he said that these girls made him suicidal\n",
      "1365455404797366273 2021-02-27 08:15:12 +0800 <AdonisVanCampen> @omasanarchy Yep - Suicidal Tendencies in Costa Mesa 1983\n",
      "1365455139360890882 2021-02-27 08:14:08 +0800 <nanaaabtc> Not suicidal but if I die I will be at peace🤷🏽‍♀️,\n",
      "1365455125452623881 2021-02-27 08:14:05 +0800 <TiredSebas> @lilbit00 Suicidal thoughts\n",
      "1365455101117272065 2021-02-27 08:13:59 +0800 <FrankieTwinn> Notorious B.I.G. - Suicidal Thoughts ! On Repeat 💯😔\n",
      "1365454977431388161 2021-02-27 08:13:30 +0800 <kat44544> Sad? Nap. Anxious? Nap. Depressed? Nap. Unsure of your future to the point of constant suicidal ideation? Nap.😌\n",
      "1365454963753672708 2021-02-27 08:13:26 +0800 <phiaasophiee> Not suicidal but gusto kong mawala Kahit saglit Lang.\n",
      "1365454818916126720 2021-02-27 08:12:52 +0800 <DaveBThyName29> @Sheena_655321 Boy Interrupted.  HBO, about a teen boy who commits suicide, and had suicidal tendencies since he was 6. Very sad......\n",
      "1365454577542258690 2021-02-27 08:11:54 +0800 <trewvs> This why they are fundraising for Malcolm Bass.  Money for a man who advocated to withhold usual NHS care from traumatised, suicidal pts.  Money so he can skip NHS queues &amp; limits.  Money so he can get timely care.  Money &amp; care for him while the pts he harmed are left to rot.  https://t.co/12BncUAYDG\n",
      "1365454554901348355 2021-02-27 08:11:49 +0800 <baddestmamajama> Nobody is buying my tv shows, I can’t claim expertise but instead of Zoe Kravitz taking long suicidal walks and Reese Witherspoon trying to win a guy she has bad sex with...Nicole Kidman pushing them into chaos spells which allow them to rule Monterey is just better story.\n",
      "1365454440774463495 2021-02-27 08:11:22 +0800 <LOP_LWO> @AlexAlicit @SaysGareth @titowrestling With that said, transgender is also a very small percentage, but we stigmatized it to the point many are suicidal. Is there a way to help intersex people accept their identity well also acknowledging that some will identify as non-binary. If it’s only 1%, like you said, that’s...\n",
      "1365454373145497600 2021-02-27 08:11:06 +0800 <MichaelCrucifix> Driving an hour for weed bcuz local dispo prices make me suicidal 🤪\n",
      "1365453855404806150 2021-02-27 08:09:02 +0800 <IanSnakeGeek> @LundunFeeldz Other than domestics the only other cat I’ve seen in India was almost suicidal Leopard that thew itself in front of the jeep I was in, to this day I’m still not sure how the driver who may have been going “a little too fast”kept us from rolling off a cliff.\n",
      "1365453802632056836 2021-02-27 08:08:50 +0800 <apricotpartyy> @kanekii_k machi lyouma lol! i'm not suicidal\n",
      "1365453664773672964 2021-02-27 08:08:17 +0800 <CBCNB> Horizon examines how suicidal teen was able to leave Fredericton hospital without help:  https://t.co/FuwgollMrg  https://t.co/6oJWRdiMhW\n",
      "1365453552404099074 2021-02-27 08:07:50 +0800 <baldwinlaura> Trying get through almost everyday with Suicidal thoughts is the hardest thing you can do.\n",
      "1365453542526504978 2021-02-27 08:07:48 +0800 <kamranalishah> Sharif in suicidal mode 🤣😎\n",
      "1365453526474850304 2021-02-27 08:07:44 +0800 <riotnymph> owing $500 dollars to the irs is making me a lol suicidal\n",
      "1365453503011971073 2021-02-27 08:07:38 +0800 <guiwdaboy13> @zsoldierH Josh A Suicidal Throughs Post Malone Goodbyes M4 Matuê\n",
      "1365453480052277251 2021-02-27 08:07:33 +0800 <llamcorn6616> @Oracani @UggMcMuffin @ExistentialEnso @boobookitty555 @Oreo Its scientifically proven that recently transitioned beings have a disproportionate rate of suicidal deaths. Kind of hinting towards the fact that these \"important surgeries and procedures\" arent helping with any necessity of merit\n",
      "1365453143471964165 2021-02-27 08:06:12 +0800 <qblockz> Twitter sentiment is suicidal rn. If I was a sentiment analyst I would say people are suicidal  https://t.co/nrwhr7FUb8\n",
      "1365453110563524609 2021-02-27 08:06:05 +0800 <Fiilng> Night, stars, cigarettes, suicidal thoughts, tears ✨\n",
      "1365453050010304512 2021-02-27 08:05:50 +0800 <misoswag> this   essay  is  making  me  suicidal  😐\n",
      "1365453048806522880 2021-02-27 08:05:50 +0800 <MommyDe4Hijos> I hope it’s random, if not, I’d appreciate if I  was considered, in the process of leaving my husband and no where to live with 2 babies and teenager &amp; no money. Living with his spite is affecting me mentally as a Borderline personality with suicidal tendencies/ ideations\n",
      "1365452804828123139 2021-02-27 08:04:52 +0800 <lupitaveexo> Yeah sure he’s making music for money and fame when fame was LITERALLY the reason he became mentally ill and extremely suicidal. Please stfu dumbass\n",
      "1365452589400084485 2021-02-27 08:04:00 +0800 <Nhanasaka> @suicidal_muget_ かかりつけ医変えたくなくても自分そうだったんだけどお住まいの地域の発達専門の大きい病院に検査だけ受けにいくことはできるはずだよー😃 障害者雇用のことも含めて先生に相談してみたらどうかなー❓🙄\n",
      "1365452489814929409 2021-02-27 08:03:37 +0800 <MiranghePela> It is SUICIDAL to doubt God when there is obviously no solution to a problem. #houseofgrace #incpspb\n",
      "1365452458122768385 2021-02-27 08:03:29 +0800 <nonamefritz> “I just broke up with my psychiatrist. This afternoon, for the first time I told him I got suicidal tendencies. He told me from now on I have to pay in advance.” - Rodney Dangerfield\n",
      "1365452455505395718 2021-02-27 08:03:28 +0800 <Nhanasaka> @suicidal_muget_ おはよう😊☀️いえいえ✨ 検査結果で目に見えるとわかりやすいよね😳✨わかる‼️ 障害者枠考えてるなら二次障害だけで手帳難しいなら診断取るのありだよね😃 何にしても診断が付くことのメリットとデメリットがどちらが大きいかだねー、、🤔✨ 一生付いてくるのがねー🙄💦 悩むよねー🌀🌀\n",
      "1365452273808195584 2021-02-27 08:02:45 +0800 <Infamousvixenn> I swear it hurt my feelings to see my niggas suicidal\n",
      "1365452059605012481 2021-02-27 08:01:54 +0800 <amal_elan> Our \"Suicidal\" Food System: How We Got Here and Next Steps - The Bittman Project  https://t.co/A9iWQfNkOb\n",
      "1365451851403988996 2021-02-27 08:01:04 +0800 <IndianGroypered> @Malcolm12345672 @RocketGirl24_ @breakbotter @mtgreenee @gregkellyusa @newsmax You understand you can't simply... pause your endocrine system right? Puberty is a biological process which effects ever facet of the body, giving hormone blockers isn't like pausing a movie to continue at a later time. It is incredibly dangerous and can have suicidal effects.\n",
      "1365451599187968002 2021-02-27 08:00:04 +0800 <Trevor__Bot> This stuff simply does nothing for me. Noth-nothing at all. Not a thing I'm totally fine. Fine and suicidal.\n",
      "1365451585908846593 2021-02-27 08:00:01 +0800 <barktechco> What happens when a young child experiences suicidal ideation? Here’s how one family is navigating their kid’s emotions. #SuicideAwareness    https://t.co/dTKSr7pueJ\n",
      "[!] No more data! Scraping will stop now.\n",
      "found 0 deleted tweets in this search.\n"
     ]
    }
   ],
   "source": [
    "# keyword search\n",
    "date = '2021-2-21'\n",
    "date_lst = [date[:-1] + (str(int(date[-1])+i)) for i in range(7)]\n",
    "tweets_df = pd.DataFrame()\n",
    "\n",
    "for date in date_lst:\n",
    "       c = twint.Config()\n",
    "       c.Search = 'suicidal'\n",
    "       c.Since = date\n",
    "       c.Until = date[:-1] + (str(int(date[-1])+1))\n",
    "       c.Pandas = True\n",
    "\n",
    "       # start search\n",
    "       twint.run.Search(c)\n",
    "       tweets = twint.storage.panda.Tweets_df\n",
    "       data_after = pd.merge(tweets,user_info_df,on='username')\n",
    "\n",
    "       tweets_df = tweets_df.append(data_after)"
   ]
  },
  {
   "cell_type": "code",
   "execution_count": 154,
   "metadata": {},
   "outputs": [
    {
     "name": "stdout",
     "output_type": "stream",
     "text": [
      "<class 'pandas.core.frame.DataFrame'>\n",
      "RangeIndex: 11441 entries, 0 to 11440\n",
      "Data columns (total 31 columns):\n",
      " #   Column            Non-Null Count  Dtype \n",
      "---  ------            --------------  ----- \n",
      " 0   date              11441 non-null  object\n",
      " 1   tweet             11441 non-null  object\n",
      " 2   hashtags          11441 non-null  object\n",
      " 3   username          11441 non-null  object\n",
      " 4   name_x            11441 non-null  object\n",
      " 5   day               11441 non-null  int64 \n",
      " 6   hour              11441 non-null  object\n",
      " 7   link              11441 non-null  object\n",
      " 8   urls              11441 non-null  object\n",
      " 9   photos            11441 non-null  object\n",
      " 10  video             11441 non-null  int64 \n",
      " 11  retweet           11441 non-null  bool  \n",
      " 12  nlikes            11441 non-null  int64 \n",
      " 13  nreplies          11441 non-null  int64 \n",
      " 14  nretweets         11441 non-null  int64 \n",
      " 15  quote_url         11441 non-null  object\n",
      " 16  reply_to          11441 non-null  object\n",
      " 17  bio               10637 non-null  object\n",
      " 18  url               5240 non-null   object\n",
      " 19  join_date         11441 non-null  object\n",
      " 20  join_time         11441 non-null  object\n",
      " 21  tweets            11441 non-null  int64 \n",
      " 22  location          8535 non-null   object\n",
      " 23  following         11441 non-null  int64 \n",
      " 24  followers         11441 non-null  int64 \n",
      " 25  likes             11441 non-null  int64 \n",
      " 26  media             11441 non-null  int64 \n",
      " 27  private           11441 non-null  bool  \n",
      " 28  verified          11441 non-null  bool  \n",
      " 29  avatar            11441 non-null  object\n",
      " 30  background_image  10339 non-null  object\n",
      "dtypes: bool(3), int64(10), object(18)\n",
      "memory usage: 2.5+ MB\n"
     ]
    }
   ],
   "source": [
    "tweets = tweets_df[:]\n",
    "tweets = tweets.reset_index(drop=True)\n",
    "# initial cleaning\n",
    "tweets = tweets.drop(tweets[tweets['language'] != 'en'].index)\n",
    "tweets = tweets.drop(tweets[tweets['reply_to'].str.contains('suicidal', regex=False)].index)\n",
    "tweets = tweets.drop(tweets[~tweets['tweet'].str.contains('suicidal', regex=False)].index)\n",
    "tweets = tweets.drop_duplicates(subset=['tweet'])\n",
    "tweets = tweets.drop(columns=['id_x','id_y','name_y','conversation_id','user_id_str','created_at','timezone','user_id','place','language','cashtags','thumbnail','source','translate','near','geo','user_rt_id','search','user_rt','retweet_id','retweet_date','trans_src','trans_dest','join_datetime'])\n",
    "tweets = tweets.reset_index(drop=True)\n",
    "tweets.info()"
   ]
  },
  {
   "cell_type": "code",
   "execution_count": 158,
   "metadata": {},
   "outputs": [
    {
     "data": {
      "text/plain": [
       "Index(['date', 'tweet', 'hashtags', 'username', 'name_x', 'day', 'hour',\n",
       "       'link', 'urls', 'photos', 'video', 'retweet', 'nlikes', 'nreplies',\n",
       "       'nretweets', 'quote_url', 'reply_to', 'bio', 'url', 'join_date',\n",
       "       'join_time', 'tweets', 'location', 'following', 'followers', 'likes',\n",
       "       'media', 'private', 'verified', 'avatar', 'background_image', 'label'],\n",
       "      dtype='object')"
      ]
     },
     "execution_count": 158,
     "metadata": {},
     "output_type": "execute_result"
    }
   ],
   "source": [
    "tweets['label'] = ''\n",
    "tweets = tweets[['date', 'tweet', 'label', 'link', 'hashtags', 'username', 'name_x', 'day', 'hour',\n",
    "       'urls', 'photos', 'video', 'retweet', 'nlikes', 'nreplies',\n",
    "       'nretweets', 'quote_url', 'reply_to', 'bio', 'url', 'join_date',\n",
    "       'join_time', 'tweets', 'location', 'following', 'followers', 'likes',\n",
    "       'media', 'private', 'verified', 'avatar', 'background_image']]"
   ]
  },
  {
   "cell_type": "code",
   "execution_count": 161,
   "metadata": {},
   "outputs": [],
   "source": [
    "tweets.iloc[:2288,:].to_csv(\"Fei.csv\",index=False)"
   ]
  },
  {
   "cell_type": "code",
   "execution_count": 163,
   "metadata": {},
   "outputs": [],
   "source": [
    "tweets.iloc[2288:4576,:].to_csv(\"Peter.csv\",index=False)"
   ]
  },
  {
   "cell_type": "code",
   "execution_count": 165,
   "metadata": {},
   "outputs": [],
   "source": [
    "tweets.iloc[4576:6864,:].to_csv(\"Sebastian.csv\",index=False)"
   ]
  },
  {
   "cell_type": "code",
   "execution_count": 167,
   "metadata": {},
   "outputs": [],
   "source": [
    "tweets.iloc[6864:9152,:].to_csv(\"Jinxue.csv\",index=False)"
   ]
  },
  {
   "cell_type": "code",
   "execution_count": 168,
   "metadata": {},
   "outputs": [],
   "source": [
    "tweets.iloc[9152:,:].to_csv(\"Yanjin.csv\",index=False)"
   ]
  },
  {
   "cell_type": "code",
   "execution_count": 173,
   "metadata": {},
   "outputs": [],
   "source": [
    "username = tweets['username'].unique()\n",
    "pd.DataFrame(username).to_csv('username.csv',index=False)"
   ]
  },
  {
   "cell_type": "code",
   "execution_count": 174,
   "metadata": {},
   "outputs": [],
   "source": [
    "user_info_df = pd.DataFrame(columns=['id', 'name', 'username', 'bio', 'url', 'join_datetime', 'join_date',\n",
    "       'join_time', 'tweets', 'location', 'following', 'followers', 'likes',\n",
    "       'media', 'private', 'verified', 'avatar', 'background_image'])"
   ]
  },
  {
   "cell_type": "code",
   "execution_count": 33,
   "metadata": {},
   "outputs": [],
   "source": [
    "import pandas as pd\n",
    "import numpy as np\n",
    "import twint\n",
    "import pyperclip\n",
    "import nest_asyncio\n",
    "nest_asyncio.apply()\n",
    "username = pd.read_csv('username.csv')['0']\n",
    "user_info_df = pd.read_csv(\"user_info_df.csv\")"
   ]
  },
  {
   "cell_type": "code",
   "execution_count": 100,
   "metadata": {},
   "outputs": [
    {
     "name": "stdout",
     "output_type": "stream",
     "text": [
      "...deleting the  chnniesblu  from username\n",
      "data saved!\n"
     ]
    }
   ],
   "source": [
    "# delete the user account\n",
    "print('...deleting the ', name, ' from username')\n",
    "username = username.drop([user_info_df.shape[0]])\n",
    "username = username.reset_index(drop=True)\n",
    "username.to_csv('username.csv',index=False)\n",
    "data = pd.read_csv(\"after_tweets.csv\")\n",
    "data = data.drop(data[data['username'] == name].index)\n",
    "data = data.reset_index(drop=True)\n",
    "data.to_csv('after_tweets.csv',index=False)\n",
    "print('data saved!')"
   ]
  },
  {
   "cell_type": "code",
   "execution_count": 119,
   "metadata": {},
   "outputs": [
    {
     "name": "stdout",
     "output_type": "stream",
     "text": [
      "replacing username  CFC_Andrew_  to  ftbl_andrew\n",
      "data saved!\n"
     ]
    }
   ],
   "source": [
    "# replace username\n",
    "after_username = 'ftbl_andrew'\n",
    "print('replacing username ', name, ' to ', after_username)\n",
    "username[user_info_df.shape[0]] = after_username\n",
    "username.to_csv('username.csv',index=False)\n",
    "data = pd.read_csv(\"after_tweets.csv\")\n",
    "data['username'] = data['username'].replace(name,after_username)\n",
    "data.to_csv('after_tweets.csv',index=False)\n",
    "print('data saved!')"
   ]
  },
  {
   "cell_type": "code",
   "execution_count": 121,
   "metadata": {},
   "outputs": [
    {
     "ename": "IndexError",
     "evalue": "single positional indexer is out-of-bounds",
     "output_type": "error",
     "traceback": [
      "\u001b[1;31m---------------------------------------------------------------------------\u001b[0m",
      "\u001b[1;31mIndexError\u001b[0m                                Traceback (most recent call last)",
      "\u001b[1;32m<ipython-input-121-a7750faf2d0a>\u001b[0m in \u001b[0;36m<module>\u001b[1;34m\u001b[0m\n\u001b[0;32m      1\u001b[0m \u001b[1;31m# search for tweets to see whether the user account still exist\u001b[0m\u001b[1;33m\u001b[0m\u001b[1;33m\u001b[0m\u001b[1;33m\u001b[0m\u001b[0m\n\u001b[0;32m      2\u001b[0m \u001b[0mdata\u001b[0m \u001b[1;33m=\u001b[0m \u001b[0mpd\u001b[0m\u001b[1;33m.\u001b[0m\u001b[0mread_csv\u001b[0m\u001b[1;33m(\u001b[0m\u001b[1;34m\"after_tweets.csv\"\u001b[0m\u001b[1;33m)\u001b[0m\u001b[1;33m\u001b[0m\u001b[1;33m\u001b[0m\u001b[0m\n\u001b[1;32m----> 3\u001b[1;33m \u001b[0mpyperclip\u001b[0m\u001b[1;33m.\u001b[0m\u001b[0mcopy\u001b[0m\u001b[1;33m(\u001b[0m\u001b[0mdata\u001b[0m\u001b[1;33m[\u001b[0m\u001b[0mdata\u001b[0m\u001b[1;33m[\u001b[0m\u001b[1;34m'username'\u001b[0m\u001b[1;33m]\u001b[0m \u001b[1;33m==\u001b[0m \u001b[0mname\u001b[0m\u001b[1;33m]\u001b[0m\u001b[1;33m[\u001b[0m\u001b[1;34m'link'\u001b[0m\u001b[1;33m]\u001b[0m\u001b[1;33m.\u001b[0m\u001b[0miloc\u001b[0m\u001b[1;33m[\u001b[0m\u001b[1;36m0\u001b[0m\u001b[1;33m]\u001b[0m\u001b[1;33m)\u001b[0m\u001b[1;33m\u001b[0m\u001b[1;33m\u001b[0m\u001b[0m\n\u001b[0m\u001b[0;32m      4\u001b[0m \u001b[0mname\u001b[0m\u001b[1;33m\u001b[0m\u001b[1;33m\u001b[0m\u001b[0m\n",
      "\u001b[1;32m~\\OneDrive\\SMU\\AML\\twittervenv\\lib\\site-packages\\pandas\\core\\indexing.py\u001b[0m in \u001b[0;36m__getitem__\u001b[1;34m(self, key)\u001b[0m\n\u001b[0;32m    893\u001b[0m \u001b[1;33m\u001b[0m\u001b[0m\n\u001b[0;32m    894\u001b[0m             \u001b[0mmaybe_callable\u001b[0m \u001b[1;33m=\u001b[0m \u001b[0mcom\u001b[0m\u001b[1;33m.\u001b[0m\u001b[0mapply_if_callable\u001b[0m\u001b[1;33m(\u001b[0m\u001b[0mkey\u001b[0m\u001b[1;33m,\u001b[0m \u001b[0mself\u001b[0m\u001b[1;33m.\u001b[0m\u001b[0mobj\u001b[0m\u001b[1;33m)\u001b[0m\u001b[1;33m\u001b[0m\u001b[1;33m\u001b[0m\u001b[0m\n\u001b[1;32m--> 895\u001b[1;33m             \u001b[1;32mreturn\u001b[0m \u001b[0mself\u001b[0m\u001b[1;33m.\u001b[0m\u001b[0m_getitem_axis\u001b[0m\u001b[1;33m(\u001b[0m\u001b[0mmaybe_callable\u001b[0m\u001b[1;33m,\u001b[0m \u001b[0maxis\u001b[0m\u001b[1;33m=\u001b[0m\u001b[0maxis\u001b[0m\u001b[1;33m)\u001b[0m\u001b[1;33m\u001b[0m\u001b[1;33m\u001b[0m\u001b[0m\n\u001b[0m\u001b[0;32m    896\u001b[0m \u001b[1;33m\u001b[0m\u001b[0m\n\u001b[0;32m    897\u001b[0m     \u001b[1;32mdef\u001b[0m \u001b[0m_is_scalar_access\u001b[0m\u001b[1;33m(\u001b[0m\u001b[0mself\u001b[0m\u001b[1;33m,\u001b[0m \u001b[0mkey\u001b[0m\u001b[1;33m:\u001b[0m \u001b[0mTuple\u001b[0m\u001b[1;33m)\u001b[0m\u001b[1;33m:\u001b[0m\u001b[1;33m\u001b[0m\u001b[1;33m\u001b[0m\u001b[0m\n",
      "\u001b[1;32m~\\OneDrive\\SMU\\AML\\twittervenv\\lib\\site-packages\\pandas\\core\\indexing.py\u001b[0m in \u001b[0;36m_getitem_axis\u001b[1;34m(self, key, axis)\u001b[0m\n\u001b[0;32m   1499\u001b[0m \u001b[1;33m\u001b[0m\u001b[0m\n\u001b[0;32m   1500\u001b[0m             \u001b[1;31m# validate the location\u001b[0m\u001b[1;33m\u001b[0m\u001b[1;33m\u001b[0m\u001b[1;33m\u001b[0m\u001b[0m\n\u001b[1;32m-> 1501\u001b[1;33m             \u001b[0mself\u001b[0m\u001b[1;33m.\u001b[0m\u001b[0m_validate_integer\u001b[0m\u001b[1;33m(\u001b[0m\u001b[0mkey\u001b[0m\u001b[1;33m,\u001b[0m \u001b[0maxis\u001b[0m\u001b[1;33m)\u001b[0m\u001b[1;33m\u001b[0m\u001b[1;33m\u001b[0m\u001b[0m\n\u001b[0m\u001b[0;32m   1502\u001b[0m \u001b[1;33m\u001b[0m\u001b[0m\n\u001b[0;32m   1503\u001b[0m             \u001b[1;32mreturn\u001b[0m \u001b[0mself\u001b[0m\u001b[1;33m.\u001b[0m\u001b[0mobj\u001b[0m\u001b[1;33m.\u001b[0m\u001b[0m_ixs\u001b[0m\u001b[1;33m(\u001b[0m\u001b[0mkey\u001b[0m\u001b[1;33m,\u001b[0m \u001b[0maxis\u001b[0m\u001b[1;33m=\u001b[0m\u001b[0maxis\u001b[0m\u001b[1;33m)\u001b[0m\u001b[1;33m\u001b[0m\u001b[1;33m\u001b[0m\u001b[0m\n",
      "\u001b[1;32m~\\OneDrive\\SMU\\AML\\twittervenv\\lib\\site-packages\\pandas\\core\\indexing.py\u001b[0m in \u001b[0;36m_validate_integer\u001b[1;34m(self, key, axis)\u001b[0m\n\u001b[0;32m   1442\u001b[0m         \u001b[0mlen_axis\u001b[0m \u001b[1;33m=\u001b[0m \u001b[0mlen\u001b[0m\u001b[1;33m(\u001b[0m\u001b[0mself\u001b[0m\u001b[1;33m.\u001b[0m\u001b[0mobj\u001b[0m\u001b[1;33m.\u001b[0m\u001b[0m_get_axis\u001b[0m\u001b[1;33m(\u001b[0m\u001b[0maxis\u001b[0m\u001b[1;33m)\u001b[0m\u001b[1;33m)\u001b[0m\u001b[1;33m\u001b[0m\u001b[1;33m\u001b[0m\u001b[0m\n\u001b[0;32m   1443\u001b[0m         \u001b[1;32mif\u001b[0m \u001b[0mkey\u001b[0m \u001b[1;33m>=\u001b[0m \u001b[0mlen_axis\u001b[0m \u001b[1;32mor\u001b[0m \u001b[0mkey\u001b[0m \u001b[1;33m<\u001b[0m \u001b[1;33m-\u001b[0m\u001b[0mlen_axis\u001b[0m\u001b[1;33m:\u001b[0m\u001b[1;33m\u001b[0m\u001b[1;33m\u001b[0m\u001b[0m\n\u001b[1;32m-> 1444\u001b[1;33m             \u001b[1;32mraise\u001b[0m \u001b[0mIndexError\u001b[0m\u001b[1;33m(\u001b[0m\u001b[1;34m\"single positional indexer is out-of-bounds\"\u001b[0m\u001b[1;33m)\u001b[0m\u001b[1;33m\u001b[0m\u001b[1;33m\u001b[0m\u001b[0m\n\u001b[0m\u001b[0;32m   1445\u001b[0m \u001b[1;33m\u001b[0m\u001b[0m\n\u001b[0;32m   1446\u001b[0m     \u001b[1;31m# -------------------------------------------------------------------\u001b[0m\u001b[1;33m\u001b[0m\u001b[1;33m\u001b[0m\u001b[1;33m\u001b[0m\u001b[0m\n",
      "\u001b[1;31mIndexError\u001b[0m: single positional indexer is out-of-bounds"
     ]
    }
   ],
   "source": [
    "# search for tweets to see whether the user account still exist\n",
    "data = pd.read_csv(\"after_tweets.csv\")\n",
    "pyperclip.copy(data[data['username'] == name]['link'].iloc[0])\n",
    "name"
   ]
  },
  {
   "cell_type": "code",
   "execution_count": 120,
   "metadata": {
    "tags": []
   },
   "outputs": [
    {
     "name": "stdout",
     "output_type": "stream",
     "text": [
      "1306294803014004738 | Andrew | @ftbl_andrew | Private: False | Verified: False | Bio: non biased opinions (most of the time), will follow back instantly and extremely shameless | Location:  | Url: n/a | Joined: 2020-09-16 18:12:17 UTC | Tweets: 12615 | Following: 1516 | Followers: 1672 | Likes: 3270 | Media: 796 | Avatar: https://pbs.twimg.com/profile_images/1366120355765583881/FmCg39YR_normal.jpg\n",
      "1222308439927320576 | Ba™an | @Lem_uelka | Private: False | Verified: False | Bio: To be your own person, you need good friends. | Location:  | Url: n/a | Joined: 2020-01-29 00:00:31 UTC | Tweets: 232 | Following: 30 | Followers: 14 | Likes: 490 | Media: 7 | Avatar: https://pbs.twimg.com/profile_images/1367418417825738756/8A1H40nK_normal.jpg\n",
      "1033974439124377600 | cc | @cc_fla | Private: False | Verified: False | Bio: 🍍 | Location:  | Url: n/a | Joined: 2018-08-27 07:08:11 UTC | Tweets: 18344 | Following: 156 | Followers: 2636 | Likes: 22817 | Media: 376 | Avatar: https://pbs.twimg.com/profile_images/1302961115870236672/hQTVoI7H_normal.png\n",
      "2302184504 | 𝕎𝕖𝕝𝕔𝕙𝕪 🍻 | @JacobDWelch | Private: False | Verified: False | Bio: If you want it go get it. Aspiring dilf https://t.co/Jqo1siYsq7 https://t.co/ZhCqyMizBS | Location: Weatherford, TX | Url: n/a | Joined: 2014-01-20 23:46:11 UTC | Tweets: 26414 | Following: 1169 | Followers: 1992 | Likes: 50522 | Media: 2006 | Avatar: https://pbs.twimg.com/profile_images/1351288349273837571/qJjpVcwD_normal.jpg\n",
      "1352801884709380101 | #buffy | @buffyyisdead | Private: False | Verified: False | Bio: they.she | Location: 15 yr Old f4g | Url: n/a | Joined: 2021-01-23 02:14:53 UTC | Tweets: 3348 | Following: 598 | Followers: 822 | Likes: 3304 | Media: 268 | Avatar: https://pbs.twimg.com/profile_images/1366634892738498561/j_Vv4Fny_normal.jpg\n",
      "1344016537326399549 | 🪐Saturnn sleep deprivation arc💖 | @SultanofSaturnn | Private: False | Verified: False | Bio: Screaming into the void and sometimes it screams back. anarcho-sick-of-this-shit | Location: 16|Hell(London) | Url: n/a | Joined: 2020-12-29 20:25:08 UTC | Tweets: 3577 | Following: 175 | Followers: 95 | Likes: 11067 | Media: 301 | Avatar: https://pbs.twimg.com/profile_images/1366612885288464385/3L5JIPUF_normal.jpg\n",
      "1018528668 | Finally, able to sleep 🏳️‍🌈🇺🇸 😁 | @smdh_atloser45 | Private: False | Verified: False | Bio: #BidenWon, he's everyone's President. He'll get ahold of the #TrumpVirus and beat the crap out of it! Wear a DAMN MASK! I support #BLM #LGBTQ & #TransLives. | Location:  | Url: n/a | Joined: 2012-12-17 23:16:02 UTC | Tweets: 97968 | Following: 5957 | Followers: 5675 | Likes: 157618 | Media: 7615 | Avatar: https://pbs.twimg.com/profile_images/872280400739151872/dSf2TcF6_normal.jpg\n",
      "1257742156577468416 | Former Sex Worker; Current Soap Maker & Donator! | @honey_goat | Private: False | Verified: False | Bio: Small Batch Handmade Soap & Beauty Products. US Shipping. 1 Woman Business. I Donate Soap Monthly. Support SW Rights. SW Rights Are Human Rights. $HoneyGoat🧼☂️ | Location: USA | Url: https://t.co/8WD4OwG6MD | Joined: 2020-05-05 18:41:19 UTC | Tweets: 17037 | Following: 4996 | Followers: 3054 | Likes: 21121 | Media: 842 | Avatar: https://pbs.twimg.com/profile_images/1344367987923451904/5XtwQcou_normal.jpg\n",
      "1224541627986796544 | kat 🧸 | @kat44544 | Private: False | Verified: False | Bio: I don’t know what I’m doing here | Location:  | Url: n/a | Joined: 2020-02-04 03:54:21 UTC | Tweets: 527 | Following: 69 | Followers: 36 | Likes: 4202 | Media: 33 | Avatar: https://pbs.twimg.com/profile_images/1228585367449874433/EOteYOm__normal.jpg\n",
      "1132653533688475648 | Dave | @DaveBThyName29 | Private: False | Verified: False | Bio: #ClevelandSports #HorrorMovies #HorrorCommunity #Beer #BBQ  #2A #Music -when I read about the evils of drinking, I gave up reading- | Location: Tarker's Mill, OH | Url: n/a | Joined: 2019-05-26 14:23:40 UTC | Tweets: 9970 | Following: 1448 | Followers: 1085 | Likes: 29638 | Media: 1391 | Avatar: https://pbs.twimg.com/profile_images/1187912800158519296/lIIaZ5cM_normal.jpg\n",
      "568519130 | Jessica Ellis | @baddestmamajama | Private: False | Verified: True | Bio: Made @whatlieswest. Writes with @ndsinnott . 2018 Black List Feature Lab/Nicholl Fellowship Top 50. she/her. | Location: Los Angeles, CA | Url: https://t.co/oJK7M0FO3h | Joined: 2012-05-01 20:39:29 UTC | Tweets: 88956 | Following: 2296 | Followers: 51457 | Likes: 232319 | Media: 5431 | Avatar: https://pbs.twimg.com/profile_images/1058008238614925312/-Vms_t9y_normal.jpg\n",
      "217244094 | 🇺🇸🇺🇸🇲🇽🇲🇽 | @LOP_LWO | Private: False | Verified: False | Bio: “You was heartless on yo' hits/ (People) love to scream peace after they start some shit” -2Pac | Location: Raider Nation | Url: https://t.co/ePb9KuUEr4 | Joined: 2010-11-18 23:57:58 UTC | Tweets: 11288 | Following: 438 | Followers: 151 | Likes: 37067 | Media: 1673 | Avatar: https://pbs.twimg.com/profile_images/1340482132842569729/RpZiQtUu_normal.jpg\n",
      "348800888 | Michael Crucifix ᧠ アh.D brrrrr | @MichaelCrucifix | Private: False | Verified: False | Bio: @lonewolfsouljaz co! 🌞Be excellent to each other. 🧙‍♂️Alchemize Art. 🔊 Blast Beats. ⚔️ Cross Curse. #🅰️2️⃣🅱️2️⃣ DM for contact info or commissions. | Location: $outh$ideMaryland | Url: https://t.co/l8qO5rvy87 | Joined: 2011-08-05 01:09:21 UTC | Tweets: 11986 | Following: 522 | Followers: 541 | Likes: 11322 | Media: 1175 | Avatar: https://pbs.twimg.com/profile_images/1363115908147929090/h6_BZ9ch_normal.jpg\n",
      "997796463127166976 | IanPhillips | @IanSnakeGeek | Private: False | Verified: False | Bio: I like snakes! | Location: London, England | Url: https://t.co/CkqVHy98ud | Joined: 2018-05-19 11:09:49 UTC | Tweets: 1085 | Following: 1254 | Followers: 302 | Likes: 3404 | Media: 399 | Avatar: https://pbs.twimg.com/profile_images/997797831892193280/HTV18wg8_normal.jpg\n",
      "1314012891327197185 | apricot | @apricotpartyy | Private: False | Verified: False | Bio: i'm watching got for the first time so a lot of spoil !! | Location:  | Url: n/a | Joined: 2020-10-08 01:21:47 UTC | Tweets: 8944 | Following: 228 | Followers: 421 | Likes: 30232 | Media: 607 | Avatar: https://pbs.twimg.com/profile_images/1328822073238630401/tdTjXqu3_normal.jpg\n",
      "145646989 | K | @kamranalishah | Private: False | Verified: False | Bio: Retweets are NOT Endorsements   ⛔ NO DM please | Location:  | Url: n/a | Joined: 2010-05-19 13:43:40 UTC | Tweets: 29677 | Following: 1360 | Followers: 1558 | Likes: 83588 | Media: 349 | Avatar: https://pbs.twimg.com/profile_images/1354581763876659202/qGnew1KR_normal.jpg\n",
      "1214897963639685127 | quantum al'Blockzadi | @qblockz | Private: False | Verified: False | Bio: Owner and lead developer of https://t.co/vx3Segg10l | Location:  | Url: n/a | Joined: 2020-01-08 13:13:50 UTC | Tweets: 1293 | Following: 953 | Followers: 5364 | Likes: 17497 | Media: 815 | Avatar: https://pbs.twimg.com/profile_images/1340758959381200898/E_Js2RQ3_normal.jpg\n",
      "135380773 | lupita💚 | @lupitaveexo | Private: False | Verified: False | Bio:  | Location: Houston, TX | Url: https://t.co/PXVjWtSRFG | Joined: 2010-04-21 04:17:41 UTC | Tweets: 145467 | Following: 831 | Followers: 3249 | Likes: 90174 | Media: 15951 | Avatar: https://pbs.twimg.com/profile_images/1366397215254720513/nASp9lNb_normal.jpg\n",
      "286224356 | Dean Thomson | @CallawayLong | Private: False | Verified: False | Bio:  | Location: Canada | Url: n/a | Joined: 2011-04-22 15:48:31 UTC | Tweets: 19657 | Following: 350 | Followers: 363 | Likes: 9880 | Media: 569 | Avatar: https://pbs.twimg.com/profile_images/1147694811341737985/byGuJnhy_normal.jpg\n",
      "1021684345705259008 | Meer | @Meqw407 | Private: False | Verified: False | Bio: yellow tape around my body | Location: Valhalla  | Url: https://t.co/tVSaUKl7hg | Joined: 2018-07-24 09:11:44 UTC | Tweets: 25698 | Following: 645 | Followers: 1386 | Likes: 31653 | Media: 2268 | Avatar: https://pbs.twimg.com/profile_images/1367977627131199491/RCRSZX3j_normal.jpg\n",
      "1227693861994160133 | Trevor Philips | @Trevor__Bot | Private: False | Verified: False | Bio:  | Location: Sandy Shores, Blaine County | Url: n/a | Joined: 2020-02-12 20:40:15 UTC | Tweets: 2347 | Following: 7 | Followers: 10 | Likes: 1 | Media: 0 | Avatar: https://pbs.twimg.com/profile_images/1231351696728698882/kLnAdS68_normal.jpg\n",
      "840216641459888128 | 🏳️‍⚧️ Trans J.R.R. Tolkien 🏳️‍⚧️ | @jojosrainbowadv | Private: False | Verified: False | Bio: I do anime/gaming YouTube videos 🖤Queer goth punk emo metal trash 💥Cosplayer 🃏Tarot reader ✍🏽 Fantasy writer 📚Historian 🏳️‍⚧️Trans people EXIST. They/them | Location:  | Url: https://t.co/Zb116GYOaE | Joined: 2017-03-10 15:03:52 UTC | Tweets: 2893 | Following: 511 | Followers: 710 | Likes: 5347 | Media: 440 | Avatar: https://pbs.twimg.com/profile_images/1356124187019141124/hziazcFk_normal.jpg\n",
      "1351905010272120832 | (: Jeff Hagrid(stage name) JD Smith(real name) :) | @HagridJeff | Private: False | Verified: False | Bio: Retired. Live alone with a dog. Set free from Evangelicalism/the GOP. But what to plan for the rest of my one wild and precious life? he-him #AllNightLong | Location: NC, USA | Url: https://t.co/o5sslw5TMH | Joined: 2021-01-20 14:51:11 UTC | Tweets: 1226 | Following: 237 | Followers: 236 | Likes: 217 | Media: 369 | Avatar: https://pbs.twimg.com/profile_images/1367439075582627842/NlfQgVD8_normal.jpg\n",
      "1016653396659654656 | 4WD Abhi | @winebaby5 | Private: False | Verified: False | Bio: Sports News, TV and Scores Books & Authors Breaking News | Location:  | Url: n/a | Joined: 2018-07-10 12:00:33 UTC | Tweets: 7185 | Following: 961 | Followers: 107 | Likes: 16819 | Media: 118 | Avatar: https://pbs.twimg.com/profile_images/1363379211633909765/4o7xoRSf_normal.jpg\n",
      "600328187 | Sergio Bowers | @SergioBowers1 | Private: False | Verified: False | Bio: Just some guy #TradingTurds eating #HarvestedBabyBrains on the regular @superstarbets  Practice is my favorite #sport. | Location: 110 9th Ave SW, Calgary, AB T2P 0T1, Canada, Alberta | Url: https://t.co/2tV6AAvaTf | Joined: 2012-06-05 18:53:35 UTC | Tweets: 4872 | Following: 902 | Followers: 910 | Likes: 13991 | Media: 446 | Avatar: https://pbs.twimg.com/profile_images/943421996133646337/fFLGxFZG_normal.jpg\n"
     ]
    }
   ],
   "source": [
    "for name in username[user_info_df.shape[0]:]:\n",
    "    c = twint.Config()\n",
    "    c.Username = name\n",
    "    c.Pandas = True\n",
    "    try:\n",
    "        twint.run.Lookup(c)\n",
    "    except:\n",
    "        print(\"error detected! the name is \", name)\n",
    "        print(\"saving the data...\")\n",
    "        user_info_df.to_csv('user_info_df.csv',index=False)\n",
    "        break\n",
    "    user_info = twint.storage.panda.User_df\n",
    "    user_info_df = user_info_df.append(user_info)\n",
    "user_info_df.to_csv('user_info_df.csv',index=False)"
   ]
  },
  {
   "cell_type": "code",
   "execution_count": 9,
   "metadata": {},
   "outputs": [],
   "source": [
    "# Save to csv\n",
    "user_info_df.to_csv('user_info_df.csv',index=False)"
   ]
  }
 ],
 "metadata": {
  "kernelspec": {
   "display_name": "Python 3",
   "language": "python",
   "name": "python3"
  },
  "language_info": {
   "codemirror_mode": {
    "name": "ipython",
    "version": 3
   },
   "file_extension": ".py",
   "mimetype": "text/x-python",
   "name": "python",
   "nbconvert_exporter": "python",
   "pygments_lexer": "ipython3",
   "version": "3.7.9"
  }
 },
 "nbformat": 4,
 "nbformat_minor": 4
}

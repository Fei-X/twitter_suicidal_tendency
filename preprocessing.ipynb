{
 "cells": [
  {
   "cell_type": "code",
   "execution_count": 1,
   "metadata": {},
   "outputs": [],
   "source": [
    "import pandas as pd\n",
    "import numpy as np\n",
    "import matplotlib.pyplot as plt\n",
    "import re\n",
    "pd.set_option('display.max_colwidth', 1000)"
   ]
  },
  {
   "cell_type": "code",
   "execution_count": 2,
   "metadata": {},
   "outputs": [],
   "source": [
    "df = pd.DataFrame()\n",
    "for i in range(1,5):\n",
    "    file_name = 'data/data_' + str(i) + '.csv'\n",
    "    df_data = pd.read_csv(file_name)\n",
    "    df = df.append(df_data)\n",
    "df = df.reset_index(drop=True)"
   ]
  },
  {
   "cell_type": "code",
   "execution_count": 3,
   "metadata": {},
   "outputs": [],
   "source": [
    "def remove_terms(tweet, keyword, character):\n",
    "    if keyword:\n",
    "        for i in keyword:       \n",
    "            tweet = tweet.replace(character+i.lower(),'')\n",
    "    return tweet"
   ]
  },
  {
   "cell_type": "code",
   "execution_count": 4,
   "metadata": {},
   "outputs": [],
   "source": [
    "# Removing some columns about user information\n",
    "df = df.drop(columns=['date','link','hour','username','name_x','retweet','location','verified','private','avatar','background_image'])\n",
    "\n",
    "\n",
    "# 'tweets' column to lowercase\n",
    "df['tweet'] = df['tweet'].str.lower()\n",
    "\n",
    "# Transform the data type of some columns\n",
    "df['label'] = df['label'].astype(int)\n",
    "\n",
    "# Transform object type to list\n",
    "df['hashtags'] = df['hashtags'].apply(lambda x: x.strip('][').split(', ') if x != '[]' else 0)\n",
    "df['hashtags'] = df['hashtags'].apply(lambda x:[item.strip(\"'\") for item in x] if x != 0 else 0)\n",
    "screen_name = re.compile(\"screen_name': '(\\w+)'\")\n",
    "df['reply_to'] = df['reply_to'].apply(lambda x:screen_name.findall(x))\n",
    "\n",
    "# Remove hashtags and reply_to from tweet\n",
    "df['tweet'] = df.apply(lambda row:remove_terms(row['tweet'],row['hashtags'],'#'), axis=1)\n",
    "df['tweet'] = df.apply(lambda row:remove_terms(row['tweet'],row['reply_to'],'@'), axis=1)\n",
    "\n",
    "# Add a column about 'mention'\n",
    "screen_name = re.compile(\"@(\\w+)\")\n",
    "df['mention'] = df['tweet'].apply(lambda x:screen_name.findall(x))\n",
    "\n",
    "# Remove mention from tweet\n",
    "df['tweet'] = df.apply(lambda row:remove_terms(row['tweet'],row['mention'],'@'), axis=1)\n",
    "\n",
    "# Transform 'reply_to' and 'mention' to int\n",
    "df['reply_to'] = df['reply_to'].apply(lambda x:len(x) if x != '[]' else 0)\n",
    "df['mention'] = df['mention'].apply(lambda x:len(x) if x != '[]' else 0)\n",
    "\n",
    "# Remove photos and video link from tweet\n",
    "df['tweet'] = df['tweet'].apply(lambda x:re.sub('https://[a-z./0-9]+', '', x))\n",
    "df['tweet'] = df['tweet'].str.strip()\n",
    "\n",
    "# Add a column about tweet length\n",
    "df['tweet_length'] = df['tweet'].apply(lambda x:len(x.split()))\n",
    "\n",
    "# quote_url is when people quote other's tweets in their tweets.\n",
    "# Assuming that people quote others tweet is for commenting, not tend to have suicidality\n",
    "df['quote_url'] = df['quote_url'].astype(str)\n",
    "df['quote_url'] = df['quote_url'].apply(lambda x: 0 if x==\"0\" or x=='nan' else 1)\n",
    "\n",
    "# 'Bio' has NaN value\n",
    "df['bio'] = df['bio'].replace('\\n',' ',regex=True)\n",
    "df['bio'] = df['bio'].replace('\\r',' ',regex=True)\n",
    "\n",
    "# urls,photos will be classified as 0 or 1\n",
    "df['urls'] = df['urls'].apply(lambda x: 0 if x == \"[]\" else 1)\n",
    "df['photos'] = df['photos'].apply(lambda x: 0 if x == \"[]\" else 1)\n",
    "\n",
    "# 'url' is when people put some link on their user profile\n",
    "df['url'] = df['url'].astype(str)\n",
    "df['url'] = df['url'].apply(lambda x: 0 if x == 'nan' else 1)\n",
    "\n",
    "# Concatenate the sentimental analysis\n",
    "# 0 = negative, 2 = neutral, 4 = positive\n",
    "df_data = pd.read_csv('data/tweets_sentiment_result.csv')\n",
    "df_data.columns = ['tweet_sentiment','tweet']\n",
    "df['tweet_sentiment'] = df_data['tweet_sentiment']\n",
    "\n",
    "df_data = pd.read_csv('data/bio_sentiment_result.csv')\n",
    "df_data.columns = ['bio_sentiment','bio']\n",
    "df['bio_sentiment'] = df_data['bio_sentiment']\n",
    "\n",
    "# Drop 'bio'\n",
    "df = df.drop(columns=['bio'])\n",
    "\n",
    "# change the join_time to '#years user registered a twitter account'\n",
    "df['join_time'] = 2021 - pd.DatetimeIndex(pd.to_datetime(df['join_date'])).year\n",
    "\n",
    "df = df.drop(columns=['join_date'])"
   ]
  },
  {
   "cell_type": "code",
   "execution_count": 5,
   "metadata": {},
   "outputs": [
    {
     "data": {
      "text/plain": [
       "mentalhealth                  48\n",
       "suicidal                      45\n",
       "turkishstudentslivesmatter    29\n",
       "suicideprevention             28\n",
       "depression                    24\n",
       "dtype: int64"
      ]
     },
     "execution_count": 5,
     "metadata": {},
     "output_type": "execute_result"
    }
   ],
   "source": [
    "# investigating 'hashtags'\n",
    "lst = []\n",
    "for element in df['hashtags']:\n",
    "    if element != 0:\n",
    "        lst += element\n",
    "hashtags = pd.DataFrame(lst)\n",
    "hashtags.value_counts().head(5)"
   ]
  },
  {
   "cell_type": "markdown",
   "metadata": {},
   "source": [
    "For tweets having suicidal label,  97% of them don't have hashtags.  \n",
    "We can assume usually people want to raise awareness about suicide may put hashtags.  \n",
    "Therefore it would be safe to only put numbers of hashtags as feature.  "
   ]
  },
  {
   "cell_type": "code",
   "execution_count": 6,
   "metadata": {},
   "outputs": [],
   "source": [
    "df['hashtags'] = df['hashtags'].apply(lambda x:len(x) if x != 0 else 0)"
   ]
  },
  {
   "cell_type": "markdown",
   "metadata": {},
   "source": [
    "#### The pronouns of a tweet\n",
    "When a tweet is using first-person point of view, it's more likely to refer to the tweet owner's personal feeling, therefore, more likely to be real suicidal thoughts.  \n",
    "Whereas tweets in second/third person point of view are more like people describing other events.  "
   ]
  },
  {
   "cell_type": "code",
   "execution_count": 7,
   "metadata": {},
   "outputs": [],
   "source": [
    "first_person = ['i', 'my', 'me', 'am']\n",
    "df['first_person'] = 0\n",
    "for word in first_person:\n",
    "    word_ = re.compile('(^|\\s)' + word + '($|\\s)')\n",
    "    first_person_lst = df['tweet'].apply(lambda x:1 if len(word_.findall(x)) > 0 else 0)\n",
    "    df['first_person'] = df['first_person'] | first_person_lst\n",
    "    \n",
    "second_person = ['you', 'your', 'yours']\n",
    "df['second_person'] = 0\n",
    "for word in second_person:\n",
    "    word_ = re.compile('(^|\\s)' + word + '($|\\s)')\n",
    "    second_person_lst = df['tweet'].apply(lambda x:1 if len(word_.findall(x)) > 0 else 0)\n",
    "    df['second_person'] = df['second_person'] | second_person_lst\n",
    "    \n",
    "third_person = ['he','she',\"he's\",\"she's\", 'his','her','him','they','them']\n",
    "df['third_person'] = 0\n",
    "for word in third_person:\n",
    "    word_ = re.compile('(^|\\s)' + word + '($|\\s)')\n",
    "    third_person_lst = df['tweet'].apply(lambda x:1 if len(word_.findall(x)) > 0 else 0)\n",
    "    df['third_person'] = df['third_person'] | third_person_lst"
   ]
  },
  {
   "cell_type": "code",
   "execution_count": 8,
   "metadata": {},
   "outputs": [
    {
     "name": "stdout",
     "output_type": "stream",
     "text": [
      "<class 'pandas.core.frame.DataFrame'>\n",
      "RangeIndex: 9150 entries, 0 to 9149\n",
      "Data columns (total 26 columns):\n",
      " #   Column           Non-Null Count  Dtype \n",
      "---  ------           --------------  ----- \n",
      " 0   tweet            9150 non-null   object\n",
      " 1   label            9150 non-null   int64 \n",
      " 2   hashtags         9150 non-null   int64 \n",
      " 3   day              9150 non-null   int64 \n",
      " 4   urls             9150 non-null   int64 \n",
      " 5   photos           9150 non-null   int64 \n",
      " 6   video            9150 non-null   int64 \n",
      " 7   nlikes           9150 non-null   int64 \n",
      " 8   nreplies         9150 non-null   int64 \n",
      " 9   nretweets        9150 non-null   int64 \n",
      " 10  quote_url        9150 non-null   int64 \n",
      " 11  reply_to         9150 non-null   int64 \n",
      " 12  url              9150 non-null   int64 \n",
      " 13  join_time        9150 non-null   int64 \n",
      " 14  tweets           9150 non-null   int64 \n",
      " 15  following        9150 non-null   int64 \n",
      " 16  followers        9150 non-null   int64 \n",
      " 17  likes            9150 non-null   int64 \n",
      " 18  media            9150 non-null   int64 \n",
      " 19  mention          9150 non-null   int64 \n",
      " 20  tweet_length     9150 non-null   int64 \n",
      " 21  tweet_sentiment  9150 non-null   int64 \n",
      " 22  bio_sentiment    9150 non-null   int64 \n",
      " 23  first_person     9150 non-null   int64 \n",
      " 24  second_person    9150 non-null   int64 \n",
      " 25  third_person     9150 non-null   int64 \n",
      "dtypes: int64(25), object(1)\n",
      "memory usage: 1.8+ MB\n"
     ]
    }
   ],
   "source": [
    "df.info()"
   ]
  },
  {
   "cell_type": "markdown",
   "metadata": {},
   "source": [
    "### Feature Engineering"
   ]
  },
  {
   "cell_type": "code",
   "execution_count": 9,
   "metadata": {},
   "outputs": [
    {
     "data": {
      "text/plain": [
       "<AxesSubplot:xlabel='mention'>"
      ]
     },
     "execution_count": 9,
     "metadata": {},
     "output_type": "execute_result"
    },
    {
     "data": {
      "image/png": "[encoded data removed]",
      "text/plain": [
       "<Figure size 1296x216 with 3 Axes>"
      ]
     },
     "metadata": {
      "needs_background": "light"
     },
     "output_type": "display_data"
    }
   ],
   "source": [
    "fig, axs = plt.subplots(ncols=3,figsize=(18,3))\n",
    "df.groupby(['hashtags','label'])['hashtags'].count().unstack().plot(kind='bar',stacked=True,ax=axs[0])\n",
    "df.groupby(['reply_to','label'])['reply_to'].count().unstack().plot(kind='bar',stacked=True,ax=axs[1])\n",
    "df.groupby(['mention','label'])['mention'].count().unstack().plot(kind='bar',stacked=True,ax=axs[2])"
   ]
  },
  {
   "cell_type": "markdown",
   "metadata": {},
   "source": [
    "Since most of the 'hashtags' and 'mention' are empty, we don't they are good features."
   ]
  },
  {
   "cell_type": "code",
   "execution_count": 10,
   "metadata": {},
   "outputs": [
    {
     "data": {
      "text/plain": [
       "<AxesSubplot:xlabel='photos'>"
      ]
     },
     "execution_count": 10,
     "metadata": {},
     "output_type": "execute_result"
    },
    {
     "data": {
      "image/png": "[encoded data removed]",
      "text/plain": [
       "<Figure size 1296x216 with 3 Axes>"
      ]
     },
     "metadata": {
      "needs_background": "light"
     },
     "output_type": "display_data"
    }
   ],
   "source": [
    "fig, axs = plt.subplots(ncols=3,figsize=(18,3))\n",
    "df.groupby(['urls','label'])['urls'].count().unstack().plot(kind='bar',stacked=True,ax=axs[0])\n",
    "df.groupby(['video','label'])['video'].count().unstack().plot(kind='bar',stacked=True,ax=axs[1])\n",
    "df.groupby(['photos','label'])['photos'].count().unstack().plot(kind='bar',stacked=True,ax=axs[2])"
   ]
  },
  {
   "cell_type": "markdown",
   "metadata": {},
   "source": [
    "Seems like most of the media are empty. We could safely drop them."
   ]
  },
  {
   "cell_type": "code",
   "execution_count": 11,
   "metadata": {},
   "outputs": [
    {
     "data": {
      "text/plain": [
       "<AxesSubplot:title={'center':'Not Suicidal People by day'}>"
      ]
     },
     "execution_count": 11,
     "metadata": {},
     "output_type": "execute_result"
    },
    {
     "data": {
      "image/png": "[encoded data removed]",
      "text/plain": [
       "<Figure size 1080x360 with 3 Axes>"
      ]
     },
     "metadata": {
      "needs_background": "light"
     },
     "output_type": "display_data"
    }
   ],
   "source": [
    "plt.figure(figsize=(15,5))\n",
    "plt.subplot(1,3,1)\n",
    "plt.title('Total Suicidality by day')\n",
    "df['day'].value_counts().sort_index().plot(kind='bar')\n",
    "plt.subplot(1,3,2)\n",
    "plt.title('Highly Suicidal People by day')\n",
    "df[df['label'] == 2]['day'].value_counts().sort_index().plot(kind='bar')\n",
    "plt.subplot(1,3,3)\n",
    "plt.title('Not Suicidal People by day')\n",
    "df[df['label'] != 2]['day'].value_counts().sort_index().plot(kind='bar')"
   ]
  },
  {
   "cell_type": "markdown",
   "metadata": {},
   "source": [
    "Interesting, how come on Thursday suicidal vibe is so strong?  \n",
    "We can use the absolute value to map this tendency.  "
   ]
  },
  {
   "cell_type": "code",
   "execution_count": 12,
   "metadata": {},
   "outputs": [],
   "source": [
    "df = df.drop(columns=['hashtags','mention','urls','photos','video'])"
   ]
  },
  {
   "cell_type": "code",
   "execution_count": 13,
   "metadata": {},
   "outputs": [
    {
     "name": "stdout",
     "output_type": "stream",
     "text": [
      "<class 'pandas.core.frame.DataFrame'>\n",
      "RangeIndex: 9150 entries, 0 to 9149\n",
      "Data columns (total 21 columns):\n",
      " #   Column           Non-Null Count  Dtype \n",
      "---  ------           --------------  ----- \n",
      " 0   tweet            9150 non-null   object\n",
      " 1   label            9150 non-null   int64 \n",
      " 2   day              9150 non-null   int64 \n",
      " 3   nlikes           9150 non-null   int64 \n",
      " 4   nreplies         9150 non-null   int64 \n",
      " 5   nretweets        9150 non-null   int64 \n",
      " 6   quote_url        9150 non-null   int64 \n",
      " 7   reply_to         9150 non-null   int64 \n",
      " 8   url              9150 non-null   int64 \n",
      " 9   join_time        9150 non-null   int64 \n",
      " 10  tweets           9150 non-null   int64 \n",
      " 11  following        9150 non-null   int64 \n",
      " 12  followers        9150 non-null   int64 \n",
      " 13  likes            9150 non-null   int64 \n",
      " 14  media            9150 non-null   int64 \n",
      " 15  tweet_length     9150 non-null   int64 \n",
      " 16  tweet_sentiment  9150 non-null   int64 \n",
      " 17  bio_sentiment    9150 non-null   int64 \n",
      " 18  first_person     9150 non-null   int64 \n",
      " 19  second_person    9150 non-null   int64 \n",
      " 20  third_person     9150 non-null   int64 \n",
      "dtypes: int64(20), object(1)\n",
      "memory usage: 1.5+ MB\n"
     ]
    }
   ],
   "source": [
    "df.info()"
   ]
  },
  {
   "cell_type": "markdown",
   "metadata": {},
   "source": [
    "### Data Preprocessing"
   ]
  },
  {
   "cell_type": "markdown",
   "metadata": {},
   "source": [
    "###### tf-count and topic model for tweets"
   ]
  },
  {
   "cell_type": "code",
   "execution_count": null,
   "metadata": {},
   "outputs": [],
   "source": [
    "# # The lemmatization does not perform really well.\n",
    "# import nltk\n",
    "# nltk.download('wordnet')\n",
    "# from nltk.stem.wordnet import WordNetLemmatizer\n",
    "# df['tweet'] = df['tweet'].apply(lambda x:' '.join(WordNetLemmatizer().lemmatize(i) for i in x.split(' ')))\n",
    "\n",
    "from sklearn.feature_extraction import text\n",
    "from sklearn.feature_extraction.text import CountVectorizer\n",
    "from sklearn.decomposition import LatentDirichletAllocation\n",
    "\n",
    "# Adding a list of stop words to the wordlist\n",
    "my_stop_words = text.ENGLISH_STOP_WORDS.union(['suicidal','bc','did','didn','t','does','doesn','don','dont','doing','going','gonna','having','isn','ll','ve','wanna','want','wanted','wanting','wasn','went','yes','yeah'])\n",
    "count_vectorizer = CountVectorizer(min_df=0.01, stop_words=my_stop_words)\n",
    "x = count_vectorizer.fit_transform(df['tweet'])\n",
    "\n",
    "n,m = x.shape\n",
    "k = 20 # try for 20 topics\n",
    "lda = LatentDirichletAllocation(n_components=k, random_state=2021)\n",
    "xtr = lda.fit_transform(x)\n",
    "# So xtr will be new features to replace 'tweet'"
   ]
  },
  {
   "cell_type": "markdown",
   "metadata": {},
   "source": [
    "#### Scaling"
   ]
  },
  {
   "cell_type": "code",
   "execution_count": null,
   "metadata": {},
   "outputs": [],
   "source": [
    "from sklearn.preprocessing import MinMaxScaler\n",
    "scaler = preprocessing.MinMaxScaler()\n",
    "new_df = MinMaxScaler().fit_transform(df[columns_to_scale])\n",
    "new_df= pd.DataFrame(new_df, columns=columns_to_scale)\n",
    "for c in columns_to_scale:\n",
    "    df[c] = new_df[c]"
   ]
  },
  {
   "cell_type": "markdown",
   "metadata": {},
   "source": [
    "#### Reference: Sentiment analysis through Sentiment140 API"
   ]
  },
  {
   "cell_type": "code",
   "execution_count": null,
   "metadata": {},
   "outputs": [],
   "source": [
    "# Save 'tweet' and 'bio' for sentiment analysis\n",
    "df['tweet'].to_csv('data/tweets_for_sentiment.txt',index=False)\n",
    "df['bio'].to_csv('data/bio_for_sentiment.txt',index=False)"
   ]
  },
  {
   "cell_type": "code",
   "execution_count": null,
   "metadata": {},
   "outputs": [],
   "source": [
    "! curl --data-binary @data/tweets_for_sentiment.txt \"http://www.sentiment140.com/api/bulkClassify?appid=feixie.2020@mitb.smu.edu.sg\" > 'data/tweets_sentiment_result.csv'\n",
    "! curl --data-binary @data/bio_for_sentiment.txt \"http://www.sentiment140.com/api/bulkClassify?appid=feixie.2020@mitb.smu.edu.sg\" > 'data/bio_sentiment_result.csv'"
   ]
  }
 ],
 "metadata": {
  "kernelspec": {
   "display_name": "Python 3",
   "language": "python",
   "name": "python3"
  },
  "language_info": {
   "codemirror_mode": {
    "name": "ipython",
    "version": 3
   },
   "file_extension": ".py",
   "mimetype": "text/x-python",
   "name": "python",
   "nbconvert_exporter": "python",
   "pygments_lexer": "ipython3",
   "version": "3.8.5"
  }
 },
 "nbformat": 4,
 "nbformat_minor": 4
}
